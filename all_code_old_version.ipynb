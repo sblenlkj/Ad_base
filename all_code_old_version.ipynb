{
  "cells": [
    {
      "cell_type": "markdown",
      "id": "xq4WCJSibZ-o",
      "metadata": {
        "id": "xq4WCJSibZ-o"
      },
      "source": [
        "[список](https://drive.google.com/file/d/1UHzbsq0BcH20hzqkggdYm3qPPuXTDb2r/view)  \n",
        "[Методические материалы](https://edu.hse.ru/tokenpluginfile.php/a7154ed45bf41e3deca6f8e33d50a571/2304532/course/section/876414/DA_method_materials.pdf)\n",
        "\n",
        "[демо решенный](https://edu.hse.ru/mod/quiz/review.php?attempt=1757785&cmid=763302)  \n",
        "[демо нерешенный](https://edu.hse.ru/mod/quiz/attempt.php?attempt=1763345&page=6&cmid=763302)  \n",
        "[моя кр](https://edu.hse.ru/mod/quiz/review.php?attempt=946000&cmid=623751#question-1037918-11)  \n",
        "[моя кр2](https://edu.hse.ru/mod/quiz/review.php?attempt=1363700&cmid=701257)  \n",
        "[смарт лмс](https://edu.hse.ru/course/view.php?id=148424)\n",
        "\n"
      ]
    },
    {
      "cell_type": "markdown",
      "id": "9627f0f9",
      "metadata": {
        "id": "9627f0f9"
      },
      "source": [
        "# 1.\n",
        "\n",
        "Аналитик Анатолий выбирает, какой график ему построить:  \n",
        "- гистограмма - распределение переменных\n",
        "- диаграмма рассеяния - взаимозависимости"
      ]
    },
    {
      "cell_type": "markdown",
      "id": "3a43486e",
      "metadata": {
        "id": "3a43486e"
      },
      "source": [
        "# 2.\n",
        "Посмотрите на диаграмму и найдите **неверное** утверждение:\n",
        "- Среднюю перетягивают выбросы\n",
        "- Ряд значений содержит не менее одной моды - верно\n",
        "- Мода и средняя совпадают - **неверно**"
      ]
    },
    {
      "cell_type": "markdown",
      "id": "6763d024",
      "metadata": {
        "id": "6763d024"
      },
      "source": [
        "# 3\n",
        "Аналитик Арсений специализируется в применениях методов машинного обучения... классификация. Оказалось, что уровнение выглядит так..."
      ]
    },
    {
      "cell_type": "code",
      "execution_count": null,
      "id": "d25dd5ac",
      "metadata": {
        "colab": {
          "base_uri": "https://localhost:8080/"
        },
        "id": "d25dd5ac",
        "outputId": "a366f649-25fc-482e-8278-293ab63904cb"
      },
      "outputs": [
        {
          "name": "stdout",
          "output_type": "stream",
          "text": [
            "0.66\n"
          ]
        }
      ],
      "source": [
        "# посчитать все по формуле:\n",
        "a = 0 - 0.01 * 15 + 0.2 * 4 # дана в условии\n",
        "\n",
        "# применяем вот это:\n",
        "import math\n",
        "print(round(1/(1+math.exp(-a)), 2)) # печатаем ответ - сигмойда"
      ]
    },
    {
      "cell_type": "code",
      "execution_count": null,
      "id": "f7e19dd5",
      "metadata": {
        "id": "f7e19dd5",
        "outputId": "1d67ff2f-34d2-4ea7-9177-c3d1dd0ff3aa"
      },
      "outputs": [
        {
          "name": "stdout",
          "output_type": "stream",
          "text": [
            "0.82\n"
          ]
        }
      ],
      "source": [
        "a = -0.3 + 0.05 * 23 + 0.0009 * 737\n",
        "\n",
        "import math\n",
        "print(round(1/(1+math.exp(-a)), 2)) # печатаем ответ"
      ]
    },
    {
      "cell_type": "markdown",
      "id": "5e86b175",
      "metadata": {
        "id": "5e86b175"
      },
      "source": [
        "# 4 @\n",
        "-\n",
        "Плотность распределения нормальной случайной величины... Предположим, что рост взрослой собаки...\n"
      ]
    },
    {
      "cell_type": "markdown",
      "id": "3e89a716",
      "metadata": {
        "id": "3e89a716"
      },
      "source": [
        "# 5 @\n",
        "Какая выборка лучше/хуже?"
      ]
    },
    {
      "cell_type": "markdown",
      "id": "0bb458d5",
      "metadata": {
        "id": "0bb458d5"
      },
      "source": [
        "# 6 @\n",
        "Экономист Степан хочет понять, как ВВП зависит от среднего годового уровня безработицы. Оказалось, что выборочный коэффициент корреляции между ВВП и УБ равен -0.12...  \n",
        "**Истинны**:  \n",
        "- **Нельзя сказать**, существует или не существует **связь** - являются или не являются переменные зависимыми.\n",
        "- Рассматривая только коэффициент корреляции, **нельзя однозначно определить**, существует ли причинно-следственная связь между ВВП и УБ.\n",
        "\n",
        "\n",
        "Таблица Чедока:\n",
        "- менее 0.3 - слабая\n",
        "- от 0.3 до 0.5 - умеренная\n",
        "- от 0.5 до 0.7 - заметная\n",
        "- от 0.7 до 0.9 - высокая\n",
        "- от 0.9 - весьма высокая\n",
        "\n",
        "\n",
        "!!! Коэф = **-0.12** -> между переменными ВВП и УБ **существует** отрицательная линейная взаимосвязь."
      ]
    },
    {
      "cell_type": "markdown",
      "id": "02e3b28c",
      "metadata": {
        "id": "02e3b28c"
      },
      "source": [
        "# 7\n",
        "Кружочки, квадратики, звездочки..."
      ]
    },
    {
      "cell_type": "markdown",
      "id": "3d572c6a",
      "metadata": {
        "id": "3d572c6a"
      },
      "source": [
        "# 8 @\n",
        "Какой переменной может соответствовать диаграмма..."
      ]
    },
    {
      "cell_type": "markdown",
      "id": "629b4311",
      "metadata": {
        "id": "629b4311"
      },
      "source": [
        "# 9 @\n",
        "Зеленая, красная, синия - мода, медиана, среднее"
      ]
    },
    {
      "cell_type": "markdown",
      "id": "d517c6aa",
      "metadata": {
        "id": "d517c6aa"
      },
      "source": [
        "# 10 +++\n",
        "Специалист по машинному обучению Светлана тестирует гипотезу... она использует t-тест... p-value равно 0.241. Выберите все верные утверждения.\n",
        "- Основная гипотеза (не) отвергается на уровне значимости 5 %.  \n",
        "\n",
        "Смотрим, на pvalue и уровень значимости. Если p-value, **меньше** уровня значимости - **отвергаем**!\n",
        "\n",
        "Z-статистика = 0. Это значит тест самый типичный (все хорошо если он от -1.96 до 1.96) -> в данном случае p_value = 1"
      ]
    },
    {
      "cell_type": "code",
      "execution_count": null,
      "id": "JpF5O2j7GuRH",
      "metadata": {
        "colab": {
          "base_uri": "https://localhost:8080/"
        },
        "id": "JpF5O2j7GuRH",
        "outputId": "160bb230-7c4c-485d-8edf-c1ec82a60fdb"
      },
      "outputs": [
        {
          "data": {
            "text/plain": [
              "0.911602536578469"
            ]
          },
          "execution_count": 1,
          "metadata": {},
          "output_type": "execute_result"
        }
      ],
      "source": [
        "import scipy\n",
        "deggree = 300\n",
        "coef = -1\n",
        "std1 = 9\n",
        "\n",
        "scipy.stats.t.sf(abs(coef/std1), deggree)*2"
      ]
    },
    {
      "cell_type": "markdown",
      "id": "f1b39524",
      "metadata": {
        "id": "f1b39524"
      },
      "source": [
        "# 11 +++\n",
        "ошибка **первого** рода: мы формулируем правильно нулевую гипотезу, но принимаем альтернативную неверную  \n",
        "ошибка **второго** рода: мы формулируем неправильную нулевую гипотезу и ее принимаем"
      ]
    },
    {
      "cell_type": "markdown",
      "id": "e0cd1dad",
      "metadata": {
        "id": "e0cd1dad"
      },
      "source": [
        "# 12\n",
        "аналитик Ангелина выбирает алгоритм:\n",
        "- **классификация** - логистическая регрессия - 0 или 1 - делим на группы: даем кредит или нет\n",
        "- **регрессия** - линейная регрессия - 1, 2, 3, 4, 5... - определяем число\n",
        "- **ранжирование** -  рекомендательная система: ранжирование фильмов\n",
        "- **понижение размерности** - вектор длины 10 в 8 -> визуализировать полученные векторы на двумерной плоскости"
      ]
    },
    {
      "cell_type": "markdown",
      "id": "09b7f2c0",
      "metadata": {
        "id": "09b7f2c0"
      },
      "source": [
        "# 13 (4) - переписать\n",
        "Большая и страшная формула. С ее помощью определите верное утверждение - на сколько что возрастает:\n",
        "- при увеличении температуры воздуха на 1 градус Цельсия количество осадков уменьшается на 5%.\n",
        "- при увеличении температуры воздуха на 1% количество осадков увеличивается примерно на 0.001 мм.\n",
        "\n",
        "Единственная логика:\n",
        "- Если у нас логарифм: не будут одинаковые единицы измерения: год и год, % и % и т д. Если его нет, все возможно: при увеличении температуры воздуха на 2 градуса Цельсия количество осадков увеличится на 4 мм.\n",
        "- под логорифмом обычно часто проценты, другая переменная - абсолютное значение\n",
        "- Смотри на показатели в формуле! Когда их больше 2-х могут подловить a = b + c -> зависимость b и c\n",
        "\n",
        "Не знаю, почему неправильно:\n",
        "- Если квадрат скорости ветра заменить на её куб, то оценка коэффициента перед переменной speed2i никак не изменится."
      ]
    },
    {
      "cell_type": "code",
      "execution_count": null,
      "id": "37f2b95c",
      "metadata": {
        "colab": {
          "base_uri": "https://localhost:8080/"
        },
        "id": "37f2b95c",
        "outputId": "d82cb9a1-0fe2-4baf-b8ee-1a317e64bc9d"
      },
      "outputs": [
        {
          "data": {
            "text/plain": [
              "0.000995033085316699"
            ]
          },
          "execution_count": 14,
          "metadata": {},
          "output_type": "execute_result"
        }
      ],
      "source": [
        "import math\n",
        "(math.log(10100) - math.log(10000))*0.1"
      ]
    },
    {
      "cell_type": "code",
      "execution_count": null,
      "id": "11r07JatCgr7",
      "metadata": {
        "colab": {
          "base_uri": "https://localhost:8080/"
        },
        "id": "11r07JatCgr7",
        "outputId": "bd9b9519-5e50-4ebe-f99d-d03f227d028a"
      },
      "outputs": [
        {
          "data": {
            "text/plain": [
              "2.302585092994046"
            ]
          },
          "execution_count": 5,
          "metadata": {},
          "output_type": "execute_result"
        }
      ],
      "source": [
        "math.log(10)"
      ]
    },
    {
      "cell_type": "code",
      "execution_count": null,
      "id": "2dad9202",
      "metadata": {
        "id": "2dad9202"
      },
      "outputs": [],
      "source": [
        "log(x) = 1.79 + 0.08 * y #\n",
        "#"
      ]
    },
    {
      "cell_type": "code",
      "execution_count": null,
      "id": "26b0e05e",
      "metadata": {
        "id": "26b0e05e"
      },
      "outputs": [],
      "source": [
        "import math\n",
        "\n",
        "#math.log(100) = 1.79 + 0.08 * x"
      ]
    },
    {
      "cell_type": "code",
      "execution_count": null,
      "id": "08796d6d",
      "metadata": {
        "id": "08796d6d",
        "outputId": "2fb538e9-c799-420c-9972-da08609bad3a"
      },
      "outputs": [
        {
          "data": {
            "text/plain": [
              "0.12437913566459713"
            ]
          },
          "execution_count": 12,
          "metadata": {},
          "output_type": "execute_result"
        }
      ],
      "source": [
        "x = (math.log(100) - 1.79) / 0.08\n",
        "y = (math.log(101) - 1.79) / 0.08\n",
        "y - x"
      ]
    },
    {
      "cell_type": "markdown",
      "id": "36ba5860",
      "metadata": {
        "id": "36ba5860"
      },
      "source": [
        "# 14 (5)\n",
        "Верное утверждение о метриках качества:  \n",
        "**MSE** - берем все ошибки, находим отклонения, потом возводим в квадрат. Она равна нулю, когда все отлично. Она может быть любой от 0 до + бесконечности  \n",
        "**MAE** - среднюю абсолютную ошибку - модуль (растояние от 0 до этой точки)  \n",
        "**R2** - процент обьясненной дисперсии: данные очень отличаются и мы хотим обьяснить, почему они разные. Если я могу обьяснить это для всех R2 - 100 % -  т е это тот процент данных, которые я могу обьяснить исходя с помощью признаков  \n",
        "\n",
        "+ MSE (средняя квадратичная ошибка), MAE (средняя абсолютная ошибка) и R2 :\n",
        "    - MSE и MAE на тестовой выборке для этой модели совпадают / не могут совпадать / MSE всегда будет меньше MAE - **НЕ ФАКТ**\n",
        "    - Для оценки качества этой модели на тестовой выборке можно использовать как MSE, так и MAE. - **Верно**\n",
        "    - Для сравнения таких моделей можно использовать лишь MSE - **НЕТ** - можно использовать все три: для сравнения таких моделей можно использовать MAE (среднюю абсолютную ошибку) - **Верно**\n",
        "    - R2 в такой модели всегда больше 0.8. - **НЕ ФАКТ**\n",
        "    - R2  **является** адекватным показателем качества для этой модели - **Верно**\n",
        "    - Максимизация R2 в этой модели эквивалентна минимизации MSE (Максимизация R2 связана с минимизацией MSE) - **Верно**\n",
        "\n",
        "+ При добавлении нового признака в такую модель MSE на тестовой выборке обязательно уменьшится - **НЕ ФАКТ** - может увеличиться, может остаться неизменным.\n",
        "+ Оценки коэффициентов в такой модели невозможно корректно интерпретировать - **все можно, неверно**."
      ]
    },
    {
      "cell_type": "markdown",
      "id": "d00192c0",
      "metadata": {
        "id": "d00192c0"
      },
      "source": [
        "# 15 (6)\n",
        "Рок кривая.\n",
        "\n",
        "Наихудший классификатор - уголок под прямой.\n",
        "Наилучший классификатор - уголок над прямой.  \n",
        "\n",
        "В среднем логистическая регрессия предсказывает лучше, чем случайный классификатор: если она выше прямой.\n",
        "\n",
        "В соответствии с ROC-кривой, если FPR равна 0.2, то TPR также равна 0.2: смотрим оси x и y.\n",
        "\n",
        "AUC ROC - площадь (Area Under Curve) - это НЕ КРАСНАЯ линия, а синия - площадь под ней. Под красной линией - 0.5 - случайный"
      ]
    },
    {
      "cell_type": "markdown",
      "id": "953ef8e5",
      "metadata": {
        "id": "953ef8e5"
      },
      "source": [
        "# 16 @@@\n",
        "задание из последней см р"
      ]
    },
    {
      "cell_type": "code",
      "execution_count": null,
      "id": "a41b1298",
      "metadata": {
        "colab": {
          "base_uri": "https://localhost:8080/"
        },
        "id": "a41b1298",
        "outputId": "e3795cf8-da8e-4448-caf1-df5c86c88db8"
      },
      "outputs": [
        {
          "name": "stdout",
          "output_type": "stream",
          "text": [
            "answer_down - 24994.23\n",
            "answer_up - 25005.77\n"
          ]
        }
      ],
      "source": [
        "import math\n",
        "from scipy.stats import norm\n",
        "norm.ppf(0.975)\n",
        "\n",
        "answer_down = 25000 - norm.ppf(0.975) * math.sqrt(1300)/math.sqrt(150)\n",
        "answer_up = 25000 + norm.ppf(0.975) * math.sqrt(1300)/math.sqrt(150)\n",
        "print('answer_down -', round(answer_down, 2))\n",
        "print('answer_up -', round(answer_up, 2))\n",
        "\n",
        "# где, в течение 150 дней... среднее к-во пчел 25000... выборочная дисперсия 1300... 1.96 - 95 % доверительный интервал\n",
        "# как найти последнее"
      ]
    },
    {
      "cell_type": "code",
      "execution_count": null,
      "id": "AD7Br2LMKxj1",
      "metadata": {
        "colab": {
          "base_uri": "https://localhost:8080/"
        },
        "id": "AD7Br2LMKxj1",
        "outputId": "e5d1ebc4-b388-4827-cbcf-31d08355c29d"
      },
      "outputs": [
        {
          "data": {
            "text/plain": [
              "1.959963984540054"
            ]
          },
          "execution_count": 2,
          "metadata": {},
          "output_type": "execute_result"
        }
      ],
      "source": [
        "norm.ppf(0.975)"
      ]
    },
    {
      "cell_type": "code",
      "execution_count": null,
      "id": "d7F42RXqKzfh",
      "metadata": {
        "colab": {
          "base_uri": "https://localhost:8080/"
        },
        "id": "d7F42RXqKzfh",
        "outputId": "4a4e575d-244a-43d4-9bfc-72c8f0f64446"
      },
      "outputs": [
        {
          "data": {
            "text/plain": [
              "2.5758293035489004"
            ]
          },
          "execution_count": 3,
          "metadata": {},
          "output_type": "execute_result"
        }
      ],
      "source": [
        "norm.ppf(0.95)"
      ]
    },
    {
      "cell_type": "code",
      "execution_count": null,
      "id": "P3dsQwJDK9ZD",
      "metadata": {
        "colab": {
          "base_uri": "https://localhost:8080/"
        },
        "id": "P3dsQwJDK9ZD",
        "outputId": "2e1c0c0a-f850-473b-e495-e512ae452d94"
      },
      "outputs": [
        {
          "data": {
            "text/plain": [
              "2773.992580606222"
            ]
          },
          "execution_count": 5,
          "metadata": {},
          "output_type": "execute_result"
        }
      ],
      "source": [
        "2800 - norm.ppf(0.95) * 500/math.sqrt(1000)"
      ]
    },
    {
      "cell_type": "code",
      "execution_count": null,
      "id": "af9f23d2",
      "metadata": {
        "id": "af9f23d2",
        "outputId": "39dc31a0-89e0-44d2-ee88-8219b4f57104"
      },
      "outputs": [
        {
          "name": "stdout",
          "output_type": "stream",
          "text": [
            "answer nan\n"
          ]
        },
        {
          "name": "stderr",
          "output_type": "stream",
          "text": [
            "C:\\Users\\user\\AppData\\Local\\Temp/ipykernel_23996/395515022.py:10: RuntimeWarning: invalid value encountered in double_scalars\n",
            "  answer = average_number + inter * math.sqrt(dispers)/math.sqrt(days_number)\n"
          ]
        }
      ],
      "source": [
        "from scipy.stats import norm\n",
        "\n",
        "days_number = 0\n",
        "dispers = 0\n",
        "average_number = 0\n",
        "inter = norm.ppf(0.975)\n",
        "up = True\n",
        "\n",
        "if up:\n",
        "    answer = average_number + inter * math.sqrt(dispers)/math.sqrt(days_number)\n",
        "else:\n",
        "    answer = average_number - inter * math.sqrt(dispers)/math.sqrt(days_number)\n",
        "\n",
        "print('answer', round(answer, 2))"
      ]
    },
    {
      "cell_type": "markdown",
      "id": "3892549f",
      "metadata": {
        "id": "3892549f"
      },
      "source": [
        "# 17 +++\n",
        "задание из последней см р"
      ]
    },
    {
      "cell_type": "code",
      "execution_count": null,
      "id": "fff958ea",
      "metadata": {
        "colab": {
          "base_uri": "https://localhost:8080/"
        },
        "id": "fff958ea",
        "outputId": "2a2c2f09-7490-4ef2-faa3-6cae2266da6e"
      },
      "outputs": [
        {
          "data": {
            "text/plain": [
              "0.8434753569984761"
            ]
          },
          "execution_count": 2,
          "metadata": {},
          "output_type": "execute_result"
        }
      ],
      "source": [
        "from scipy import stats\n",
        "\n",
        "a = [103.01, 101.99, 105.21, 106.80, 112.70, 106.13, 110.48, 109.26, 100.44, 100.28]\n",
        "b = [107.38, 106.31, 106.00, 105.27, 105.27, 104.66, 103.70, 105.07, 105.12, 104.74]\n",
        "\n",
        "stats.ttest_ind(a, b).pvalue # ttest_independence\n",
        "\n",
        "# если pvalue очень большое (больше уровня значимости) - основная гипотеза не отвергается\n",
        "# маленькое pvalue - основная гипотеза должна быть отвергнута = ошибка при отвегании маленькая, меньше доверительного интер\n",
        "\n",
        "# НЕ ОТВЕРГАЕТСЯ"
      ]
    },
    {
      "cell_type": "code",
      "execution_count": null,
      "id": "xunKRBLDa1-H",
      "metadata": {
        "id": "xunKRBLDa1-H"
      },
      "outputs": [],
      "source": []
    },
    {
      "cell_type": "code",
      "execution_count": null,
      "id": "tobvKINna2BN",
      "metadata": {
        "id": "tobvKINna2BN"
      },
      "outputs": [],
      "source": []
    },
    {
      "cell_type": "code",
      "execution_count": null,
      "id": "eQcL3JsE63DQ",
      "metadata": {
        "colab": {
          "base_uri": "https://localhost:8080/"
        },
        "id": "eQcL3JsE63DQ",
        "outputId": "6aab7601-2175-4285-c492-00367bb94c2c"
      },
      "outputs": [
        {
          "name": "stderr",
          "output_type": "stream",
          "text": [
            "<ipython-input-38-89feccb709e1>:7: RuntimeWarning: Precision loss occurred in moment calculation due to catastrophic cancellation. This occurs when the data are nearly identical. Results may be unreliable.\n",
            "  stats.ttest_ind(a, b).pvalue\n"
          ]
        },
        {
          "data": {
            "text/plain": [
              "0.37700207477417114"
            ]
          },
          "execution_count": 38,
          "metadata": {},
          "output_type": "execute_result"
        }
      ],
      "source": [
        "import numpy as np\n",
        "\n",
        "a = [1.01, 0.98, 0.73, 1.04, 1.03, 0.9 , 1.04, 1.06, 0.91, 1.05, 0.79, 1.13, 0.9 , 0.94, 1.1 ]\n",
        "\n",
        "b = np.ones(len(a))\n",
        "\n",
        "stats.ttest_ind(a, b).pvalue"
      ]
    },
    {
      "cell_type": "code",
      "execution_count": null,
      "id": "HB5t3NlZWQzn",
      "metadata": {
        "colab": {
          "base_uri": "https://localhost:8080/"
        },
        "id": "HB5t3NlZWQzn",
        "outputId": "002248eb-2750-4cd5-ccd5-7548d25f3747"
      },
      "outputs": [
        {
          "data": {
            "text/plain": [
              "(-1.05552072282562, 0.29118723698936744)"
            ]
          },
          "execution_count": 48,
          "metadata": {},
          "output_type": "execute_result"
        }
      ],
      "source": [
        "\n",
        "a = [1.01, 0.98, 0.93, 0.73, 1.04, 1.03, 0.9 , 1.04, 1.06, 0.91, 1.05, 0.79, 1.13, 0.9 , 0.94, 1. , 1.1 ]\n",
        "\n",
        "from statsmodels.stats.weightstats import ztest\n",
        "ztest(a, value=1)"
      ]
    },
    {
      "cell_type": "markdown",
      "id": "c98bd84e",
      "metadata": {
        "id": "c98bd84e"
      },
      "source": [
        "# 18 @"
      ]
    },
    {
      "cell_type": "code",
      "execution_count": null,
      "id": "6924d96a",
      "metadata": {
        "colab": {
          "base_uri": "https://localhost:8080/",
          "height": 95
        },
        "id": "6924d96a",
        "outputId": "3c1f1c05-3802-40f9-f0e1-64a745b76bb1"
      },
      "outputs": [
        {
          "data": {
            "text/html": [
              "\n",
              "  <div id=\"df-29666515-9597-45a5-9db9-302f4b2c3a5f\">\n",
              "    <div class=\"colab-df-container\">\n",
              "      <div>\n",
              "<style scoped>\n",
              "    .dataframe tbody tr th:only-of-type {\n",
              "        vertical-align: middle;\n",
              "    }\n",
              "\n",
              "    .dataframe tbody tr th {\n",
              "        vertical-align: top;\n",
              "    }\n",
              "\n",
              "    .dataframe thead th {\n",
              "        text-align: right;\n",
              "    }\n",
              "</style>\n",
              "<table border=\"1\" class=\"dataframe\">\n",
              "  <thead>\n",
              "    <tr style=\"text-align: right;\">\n",
              "      <th></th>\n",
              "      <th>0</th>\n",
              "      <th>1</th>\n",
              "    </tr>\n",
              "  </thead>\n",
              "  <tbody>\n",
              "    <tr>\n",
              "      <th>0</th>\n",
              "      <td>1.000000</td>\n",
              "      <td>-0.608029</td>\n",
              "    </tr>\n",
              "    <tr>\n",
              "      <th>1</th>\n",
              "      <td>-0.608029</td>\n",
              "      <td>1.000000</td>\n",
              "    </tr>\n",
              "  </tbody>\n",
              "</table>\n",
              "</div>\n",
              "      <button class=\"colab-df-convert\" onclick=\"convertToInteractive('df-29666515-9597-45a5-9db9-302f4b2c3a5f')\"\n",
              "              title=\"Convert this dataframe to an interactive table.\"\n",
              "              style=\"display:none;\">\n",
              "        \n",
              "  <svg xmlns=\"http://www.w3.org/2000/svg\" height=\"24px\"viewBox=\"0 0 24 24\"\n",
              "       width=\"24px\">\n",
              "    <path d=\"M0 0h24v24H0V0z\" fill=\"none\"/>\n",
              "    <path d=\"M18.56 5.44l.94 2.06.94-2.06 2.06-.94-2.06-.94-.94-2.06-.94 2.06-2.06.94zm-11 1L8.5 8.5l.94-2.06 2.06-.94-2.06-.94L8.5 2.5l-.94 2.06-2.06.94zm10 10l.94 2.06.94-2.06 2.06-.94-2.06-.94-.94-2.06-.94 2.06-2.06.94z\"/><path d=\"M17.41 7.96l-1.37-1.37c-.4-.4-.92-.59-1.43-.59-.52 0-1.04.2-1.43.59L10.3 9.45l-7.72 7.72c-.78.78-.78 2.05 0 2.83L4 21.41c.39.39.9.59 1.41.59.51 0 1.02-.2 1.41-.59l7.78-7.78 2.81-2.81c.8-.78.8-2.07 0-2.86zM5.41 20L4 18.59l7.72-7.72 1.47 1.35L5.41 20z\"/>\n",
              "  </svg>\n",
              "      </button>\n",
              "      \n",
              "  <style>\n",
              "    .colab-df-container {\n",
              "      display:flex;\n",
              "      flex-wrap:wrap;\n",
              "      gap: 12px;\n",
              "    }\n",
              "\n",
              "    .colab-df-convert {\n",
              "      background-color: #E8F0FE;\n",
              "      border: none;\n",
              "      border-radius: 50%;\n",
              "      cursor: pointer;\n",
              "      display: none;\n",
              "      fill: #1967D2;\n",
              "      height: 32px;\n",
              "      padding: 0 0 0 0;\n",
              "      width: 32px;\n",
              "    }\n",
              "\n",
              "    .colab-df-convert:hover {\n",
              "      background-color: #E2EBFA;\n",
              "      box-shadow: 0px 1px 2px rgba(60, 64, 67, 0.3), 0px 1px 3px 1px rgba(60, 64, 67, 0.15);\n",
              "      fill: #174EA6;\n",
              "    }\n",
              "\n",
              "    [theme=dark] .colab-df-convert {\n",
              "      background-color: #3B4455;\n",
              "      fill: #D2E3FC;\n",
              "    }\n",
              "\n",
              "    [theme=dark] .colab-df-convert:hover {\n",
              "      background-color: #434B5C;\n",
              "      box-shadow: 0px 1px 3px 1px rgba(0, 0, 0, 0.15);\n",
              "      filter: drop-shadow(0px 1px 2px rgba(0, 0, 0, 0.3));\n",
              "      fill: #FFFFFF;\n",
              "    }\n",
              "  </style>\n",
              "\n",
              "      <script>\n",
              "        const buttonEl =\n",
              "          document.querySelector('#df-29666515-9597-45a5-9db9-302f4b2c3a5f button.colab-df-convert');\n",
              "        buttonEl.style.display =\n",
              "          google.colab.kernel.accessAllowed ? 'block' : 'none';\n",
              "\n",
              "        async function convertToInteractive(key) {\n",
              "          const element = document.querySelector('#df-29666515-9597-45a5-9db9-302f4b2c3a5f');\n",
              "          const dataTable =\n",
              "            await google.colab.kernel.invokeFunction('convertToInteractive',\n",
              "                                                     [key], {});\n",
              "          if (!dataTable) return;\n",
              "\n",
              "          const docLinkHtml = 'Like what you see? Visit the ' +\n",
              "            '<a target=\"_blank\" href=https://colab.research.google.com/notebooks/data_table.ipynb>data table notebook</a>'\n",
              "            + ' to learn more about interactive tables.';\n",
              "          element.innerHTML = '';\n",
              "          dataTable['output_type'] = 'display_data';\n",
              "          await google.colab.output.renderOutput(dataTable, element);\n",
              "          const docLink = document.createElement('div');\n",
              "          docLink.innerHTML = docLinkHtml;\n",
              "          element.appendChild(docLink);\n",
              "        }\n",
              "      </script>\n",
              "    </div>\n",
              "  </div>\n",
              "  "
            ],
            "text/plain": [
              "          0         1\n",
              "0  1.000000 -0.608029\n",
              "1 -0.608029  1.000000"
            ]
          },
          "execution_count": 10,
          "metadata": {},
          "output_type": "execute_result"
        }
      ],
      "source": [
        "import pandas as pd\n",
        "\n",
        "a = [50.1, 53.2, 55.0, 55.0, 50.2, 49, 52.3, 50.9, 51.8, 49.4]\n",
        "b = [15.2, 4.75, 1.2, 1.9, 9.3, 8.2, 11.9, 6.0, 7.6, 5.2]\n",
        "df = pd.DataFrame(zip(a, b))\n",
        "df.corr()"
      ]
    },
    {
      "cell_type": "code",
      "execution_count": null,
      "id": "0FtfvXS2fi0W",
      "metadata": {
        "colab": {
          "base_uri": "https://localhost:8080/",
          "height": 112
        },
        "id": "0FtfvXS2fi0W",
        "outputId": "5cae4f45-87f5-440f-9830-417bf0fbd231"
      },
      "outputs": [
        {
          "data": {
            "text/html": [
              "\n",
              "  <div id=\"df-7efc9faa-50ff-4f2d-b1ac-be024d6c8b30\">\n",
              "    <div class=\"colab-df-container\">\n",
              "      <div>\n",
              "<style scoped>\n",
              "    .dataframe tbody tr th:only-of-type {\n",
              "        vertical-align: middle;\n",
              "    }\n",
              "\n",
              "    .dataframe tbody tr th {\n",
              "        vertical-align: top;\n",
              "    }\n",
              "\n",
              "    .dataframe thead th {\n",
              "        text-align: right;\n",
              "    }\n",
              "</style>\n",
              "<table border=\"1\" class=\"dataframe\">\n",
              "  <thead>\n",
              "    <tr style=\"text-align: right;\">\n",
              "      <th></th>\n",
              "      <th>0</th>\n",
              "      <th>1</th>\n",
              "    </tr>\n",
              "  </thead>\n",
              "  <tbody>\n",
              "    <tr>\n",
              "      <th>0</th>\n",
              "      <td>1.000000</td>\n",
              "      <td>-0.936005</td>\n",
              "    </tr>\n",
              "    <tr>\n",
              "      <th>1</th>\n",
              "      <td>-0.936005</td>\n",
              "      <td>1.000000</td>\n",
              "    </tr>\n",
              "  </tbody>\n",
              "</table>\n",
              "</div>\n",
              "      <button class=\"colab-df-convert\" onclick=\"convertToInteractive('df-7efc9faa-50ff-4f2d-b1ac-be024d6c8b30')\"\n",
              "              title=\"Convert this dataframe to an interactive table.\"\n",
              "              style=\"display:none;\">\n",
              "        \n",
              "  <svg xmlns=\"http://www.w3.org/2000/svg\" height=\"24px\"viewBox=\"0 0 24 24\"\n",
              "       width=\"24px\">\n",
              "    <path d=\"M0 0h24v24H0V0z\" fill=\"none\"/>\n",
              "    <path d=\"M18.56 5.44l.94 2.06.94-2.06 2.06-.94-2.06-.94-.94-2.06-.94 2.06-2.06.94zm-11 1L8.5 8.5l.94-2.06 2.06-.94-2.06-.94L8.5 2.5l-.94 2.06-2.06.94zm10 10l.94 2.06.94-2.06 2.06-.94-2.06-.94-.94-2.06-.94 2.06-2.06.94z\"/><path d=\"M17.41 7.96l-1.37-1.37c-.4-.4-.92-.59-1.43-.59-.52 0-1.04.2-1.43.59L10.3 9.45l-7.72 7.72c-.78.78-.78 2.05 0 2.83L4 21.41c.39.39.9.59 1.41.59.51 0 1.02-.2 1.41-.59l7.78-7.78 2.81-2.81c.8-.78.8-2.07 0-2.86zM5.41 20L4 18.59l7.72-7.72 1.47 1.35L5.41 20z\"/>\n",
              "  </svg>\n",
              "      </button>\n",
              "      \n",
              "  <style>\n",
              "    .colab-df-container {\n",
              "      display:flex;\n",
              "      flex-wrap:wrap;\n",
              "      gap: 12px;\n",
              "    }\n",
              "\n",
              "    .colab-df-convert {\n",
              "      background-color: #E8F0FE;\n",
              "      border: none;\n",
              "      border-radius: 50%;\n",
              "      cursor: pointer;\n",
              "      display: none;\n",
              "      fill: #1967D2;\n",
              "      height: 32px;\n",
              "      padding: 0 0 0 0;\n",
              "      width: 32px;\n",
              "    }\n",
              "\n",
              "    .colab-df-convert:hover {\n",
              "      background-color: #E2EBFA;\n",
              "      box-shadow: 0px 1px 2px rgba(60, 64, 67, 0.3), 0px 1px 3px 1px rgba(60, 64, 67, 0.15);\n",
              "      fill: #174EA6;\n",
              "    }\n",
              "\n",
              "    [theme=dark] .colab-df-convert {\n",
              "      background-color: #3B4455;\n",
              "      fill: #D2E3FC;\n",
              "    }\n",
              "\n",
              "    [theme=dark] .colab-df-convert:hover {\n",
              "      background-color: #434B5C;\n",
              "      box-shadow: 0px 1px 3px 1px rgba(0, 0, 0, 0.15);\n",
              "      filter: drop-shadow(0px 1px 2px rgba(0, 0, 0, 0.3));\n",
              "      fill: #FFFFFF;\n",
              "    }\n",
              "  </style>\n",
              "\n",
              "      <script>\n",
              "        const buttonEl =\n",
              "          document.querySelector('#df-7efc9faa-50ff-4f2d-b1ac-be024d6c8b30 button.colab-df-convert');\n",
              "        buttonEl.style.display =\n",
              "          google.colab.kernel.accessAllowed ? 'block' : 'none';\n",
              "\n",
              "        async function convertToInteractive(key) {\n",
              "          const element = document.querySelector('#df-7efc9faa-50ff-4f2d-b1ac-be024d6c8b30');\n",
              "          const dataTable =\n",
              "            await google.colab.kernel.invokeFunction('convertToInteractive',\n",
              "                                                     [key], {});\n",
              "          if (!dataTable) return;\n",
              "\n",
              "          const docLinkHtml = 'Like what you see? Visit the ' +\n",
              "            '<a target=\"_blank\" href=https://colab.research.google.com/notebooks/data_table.ipynb>data table notebook</a>'\n",
              "            + ' to learn more about interactive tables.';\n",
              "          element.innerHTML = '';\n",
              "          dataTable['output_type'] = 'display_data';\n",
              "          await google.colab.output.renderOutput(dataTable, element);\n",
              "          const docLink = document.createElement('div');\n",
              "          docLink.innerHTML = docLinkHtml;\n",
              "          element.appendChild(docLink);\n",
              "        }\n",
              "      </script>\n",
              "    </div>\n",
              "  </div>\n",
              "  "
            ],
            "text/plain": [
              "          0         1\n",
              "0  1.000000 -0.936005\n",
              "1 -0.936005  1.000000"
            ]
          },
          "execution_count": 11,
          "metadata": {},
          "output_type": "execute_result"
        }
      ],
      "source": [
        "df = pd.DataFrame([a, b]).T\n",
        "df.corr()"
      ]
    },
    {
      "cell_type": "markdown",
      "id": "4092b24a",
      "metadata": {
        "id": "4092b24a"
      },
      "source": [
        "# 19 +++\n",
        "задание из последней см р"
      ]
    },
    {
      "cell_type": "code",
      "execution_count": null,
      "id": "d00d4900",
      "metadata": {
        "colab": {
          "base_uri": "https://localhost:8080/"
        },
        "id": "d00d4900",
        "outputId": "b9a0fae9-92ed-40fc-be44-8e564de0a687"
      },
      "outputs": [
        {
          "data": {
            "text/plain": [
              "14.48"
            ]
          },
          "execution_count": 5,
          "metadata": {},
          "output_type": "execute_result"
        }
      ],
      "source": [
        "# Рассчитайте статистику χ2 критерия согласия Пирсона\n",
        "import numpy as np\n",
        "a = [20, 30]\n",
        "b = [60, 20]\n",
        "data = np.array([a, b])\n",
        "\n",
        "round(stats.chi2_contingency(data)[0], 2)"
      ]
    },
    {
      "cell_type": "code",
      "execution_count": null,
      "id": "I8iFWejodMVs",
      "metadata": {
        "colab": {
          "base_uri": "https://localhost:8080/"
        },
        "id": "I8iFWejodMVs",
        "outputId": "37f9e382-884e-48bb-b5f8-1346ae5feb93"
      },
      "outputs": [
        {
          "data": {
            "text/plain": [
              "Chi2ContingencyResult(statistic=134.42452284557547, pvalue=6.457817206943809e-30, dof=2, expected_freq=array([[47.5, 70. , 32.5],\n",
              "       [47.5, 70. , 32.5]]))"
            ]
          },
          "execution_count": 45,
          "metadata": {},
          "output_type": "execute_result"
        }
      ],
      "source": [
        "stats.chi2_contingency(data)"
      ]
    },
    {
      "cell_type": "code",
      "execution_count": null,
      "id": "nIGBhmS8CGzY",
      "metadata": {
        "colab": {
          "base_uri": "https://localhost:8080/"
        },
        "id": "nIGBhmS8CGzY",
        "outputId": "cf3da7f2-ef21-48f3-bb2d-c40b7cfcba0d"
      },
      "outputs": [
        {
          "data": {
            "text/plain": [
              "20.48"
            ]
          },
          "execution_count": 16,
          "metadata": {},
          "output_type": "execute_result"
        }
      ],
      "source": [
        "# !!!!!!!!!!!!!\n",
        "\n",
        "a = [25, 50, 25]\n",
        "b = [52, 41, 7]\n",
        "data = np.array([a, b])\n",
        "\n",
        "round(stats.chi2_contingency(data)[0], 2)"
      ]
    },
    {
      "cell_type": "markdown",
      "id": "90e11cdb",
      "metadata": {
        "id": "90e11cdb"
      },
      "source": [
        "# 20-23 @\n",
        "легкий пандас"
      ]
    },
    {
      "cell_type": "code",
      "execution_count": null,
      "id": "c23a9a6d",
      "metadata": {
        "id": "c23a9a6d"
      },
      "outputs": [],
      "source": [
        "import pandas as pd\n",
        "df = pd.read_csv('c.csv')"
      ]
    },
    {
      "cell_type": "code",
      "execution_count": null,
      "id": "xFm94SGkNa_V",
      "metadata": {
        "id": "xFm94SGkNa_V"
      },
      "outputs": [],
      "source": [
        "df = pd.read_csv('')"
      ]
    },
    {
      "cell_type": "code",
      "execution_count": null,
      "id": "da2ac907",
      "metadata": {
        "colab": {
          "base_uri": "https://localhost:8080/"
        },
        "id": "da2ac907",
        "outputId": "be7fbb61-d035-459a-8344-b0dcc6fcf5f6"
      },
      "outputs": [
        {
          "data": {
            "text/plain": [
              "count    16719.000000\n",
              "mean         0.263330\n",
              "std          0.813514\n",
              "min          0.000000\n",
              "25%          0.000000\n",
              "50%          0.080000\n",
              "75%          0.240000\n",
              "max         41.360000\n",
              "Name: NA_Sales, dtype: float64"
            ]
          },
          "execution_count": 12,
          "metadata": {},
          "output_type": "execute_result"
        }
      ],
      "source": [
        "df['NA_Sales'] # выбор колонки\n",
        "\n",
        "df['NA_Sales'].describe() # для к-венных"
      ]
    },
    {
      "cell_type": "code",
      "execution_count": null,
      "id": "1a09ed95",
      "metadata": {
        "id": "1a09ed95",
        "outputId": "579d1f51-d17f-46e2-ade8-8d9c4d63faf8"
      },
      "outputs": [
        {
          "name": "stdout",
          "output_type": "stream",
          "text": [
            "0.26\n",
            "0.0\n",
            "0.81\n"
          ]
        }
      ],
      "source": [
        "# или так\n",
        "print(round(df['NA_Sales'].mean(), 2))\n",
        "print(round(df['NA_Sales'].min(), 2))\n",
        "print(round(df['NA_Sales'].std(), 2))\n",
        "\n",
        "# и т д"
      ]
    },
    {
      "cell_type": "code",
      "execution_count": null,
      "id": "630b2e90",
      "metadata": {
        "id": "630b2e90",
        "outputId": "50dd5a9d-9beb-4386-d745-ea8459cfddae"
      },
      "outputs": [
        {
          "data": {
            "text/plain": [
              "count      16717\n",
              "unique        12\n",
              "top       Action\n",
              "freq        3370\n",
              "Name: Genre, dtype: object"
            ]
          },
          "execution_count": 25,
          "metadata": {},
          "output_type": "execute_result"
        }
      ],
      "source": [
        "# для категориальных\n",
        "df['Genre'].describe(include=[object])"
      ]
    },
    {
      "cell_type": "code",
      "execution_count": null,
      "id": "5cc7cfb1",
      "metadata": {
        "id": "5cc7cfb1",
        "outputId": "5c7a1afd-f63f-4118-9130-13911cc7c142"
      },
      "outputs": [
        {
          "data": {
            "text/plain": [
              "0    Action\n",
              "dtype: object"
            ]
          },
          "execution_count": 27,
          "metadata": {},
          "output_type": "execute_result"
        }
      ],
      "source": [
        "# моду найти можно еще так\n",
        "df['Genre'].mode()"
      ]
    },
    {
      "cell_type": "markdown",
      "id": "340ec31e",
      "metadata": {
        "id": "340ec31e"
      },
      "source": [
        "# 24 @\n",
        "добавьте в таблицу новый признак и посчитатайте..."
      ]
    },
    {
      "cell_type": "code",
      "execution_count": null,
      "id": "52479e1c",
      "metadata": {
        "id": "52479e1c",
        "outputId": "d94c9a95-b222-4dd2-debc-49866b56e587"
      },
      "outputs": [
        {
          "name": "stdout",
          "output_type": "stream",
          "text": [
            "0.08\n"
          ]
        }
      ],
      "source": [
        "# 1 вариант\n",
        "df['Platform_Coded'] = (df['Platform'] == 'PS3').astype(int)\n",
        "a = df['Platform_Coded'].mean()\n",
        "print(round(a, 2))"
      ]
    },
    {
      "cell_type": "code",
      "execution_count": null,
      "id": "9056b9c0",
      "metadata": {
        "id": "9056b9c0",
        "outputId": "cfca4e5a-cc7e-46e4-82c4-4d3e1eafd9d0"
      },
      "outputs": [
        {
          "name": "stdout",
          "output_type": "stream",
          "text": [
            "0.08\n"
          ]
        }
      ],
      "source": [
        "# 2 вариант\n",
        "df['Platform_Coded'] = df['Platform'].apply(lambda a: a == 'PS3')\n",
        "a = df['Platform_Coded'].mean()\n",
        "print(round(a, 2))"
      ]
    },
    {
      "cell_type": "markdown",
      "id": "b8c93a3b",
      "metadata": {
        "id": "b8c93a3b"
      },
      "source": [
        "# 25 @\n",
        "фильтрация"
      ]
    },
    {
      "cell_type": "code",
      "execution_count": null,
      "id": "594c9432",
      "metadata": {
        "id": "594c9432",
        "outputId": "32f030f8-80bf-4d05-fa99-641a01bb6979"
      },
      "outputs": [
        {
          "name": "stdout",
          "output_type": "stream",
          "text": [
            "65.6\n"
          ]
        }
      ],
      "source": [
        "df_filt = df[(df['Publisher'] == 'Tecmo Koei') | (df['Publisher'] == 'Wanadoo')]\n",
        "print(round(df_filt['Critic_Score'].mean(), 2))"
      ]
    },
    {
      "cell_type": "markdown",
      "id": "2f509d55",
      "metadata": {
        "id": "2f509d55"
      },
      "source": [
        "# 26 @\n",
        "к-во пропущенных значений в конкретной колонке или что-то другое"
      ]
    },
    {
      "cell_type": "code",
      "execution_count": null,
      "id": "39d20bbb",
      "metadata": {
        "id": "39d20bbb",
        "outputId": "0d3dbed5-f95c-4028-9267-380aa42d7997"
      },
      "outputs": [
        {
          "data": {
            "text/plain": [
              "6623"
            ]
          },
          "execution_count": 37,
          "metadata": {},
          "output_type": "execute_result"
        }
      ],
      "source": [
        "df['Developer'].isna().sum()"
      ]
    },
    {
      "cell_type": "markdown",
      "id": "61253af5",
      "metadata": {
        "id": "61253af5"
      },
      "source": [
        "# 27 @\n",
        "замена пропущенных значений"
      ]
    },
    {
      "cell_type": "code",
      "execution_count": null,
      "id": "7b82a01e",
      "metadata": {
        "colab": {
          "base_uri": "https://localhost:8080/"
        },
        "id": "7b82a01e",
        "outputId": "9bad8ede-6f80-4368-c9ba-235e8568f0a5"
      },
      "outputs": [
        {
          "data": {
            "text/plain": [
              "6827"
            ]
          },
          "execution_count": 36,
          "metadata": {},
          "output_type": "execute_result"
        }
      ],
      "source": [
        "mode1 = df['Developer'].mode()[0]\n",
        "df['Developer'].fillna(mode1).value_counts()[mode1]"
      ]
    },
    {
      "cell_type": "code",
      "execution_count": null,
      "id": "CIsFYgoqYefK",
      "metadata": {
        "colab": {
          "base_uri": "https://localhost:8080/"
        },
        "id": "CIsFYgoqYefK",
        "outputId": "54d98f95-11b0-498c-8fa1-739edc79dfef"
      },
      "outputs": [
        {
          "data": {
            "text/plain": [
              "0.26333034272384714"
            ]
          },
          "execution_count": 15,
          "metadata": {},
          "output_type": "execute_result"
        }
      ],
      "source": [
        "df['NA_Sales'].mean()"
      ]
    },
    {
      "cell_type": "markdown",
      "id": "d961801b",
      "metadata": {
        "id": "d961801b"
      },
      "source": [
        "# 28-29 @ только 28\n",
        "Идеи:\n",
        "- Изменение переменной Critic_Score совершенно не влияет на изменение переменной EU_Sales - **обычно неверно**.\n",
        "- Построенная диаграмма показывает, что в выборке, возможно, есть выбросы.\n",
        "\n",
        "сильная отрицательная / положительная линейная взаимосвязь - ее должно быть видно"
      ]
    },
    {
      "cell_type": "code",
      "execution_count": null,
      "id": "e51adb99",
      "metadata": {
        "id": "e51adb99",
        "outputId": "c1ff99bc-da99-4d9a-b26c-609e5d049ace"
      },
      "outputs": [
        {
          "data": {
            "text/plain": [
              "<matplotlib.collections.PathCollection at 0x143132f58b0>"
            ]
          },
          "execution_count": 62,
          "metadata": {},
          "output_type": "execute_result"
        },
        {
          "data": {
            "image/png": "[encoded data removed]",
            "text/plain": [
              "<Figure size 432x288 with 1 Axes>"
            ]
          },
          "metadata": {},
          "output_type": "display_data"
        }
      ],
      "source": [
        "# диаграма рассеяния\n",
        "import matplotlib.pyplot as plt\n",
        "plt.scatter(df['Critic_Score'], df['EU_Sales'])"
      ]
    },
    {
      "cell_type": "code",
      "execution_count": null,
      "id": "5274c781",
      "metadata": {
        "id": "5274c781",
        "outputId": "f5e8183d-90c5-4577-c885-124c14dc1d08"
      },
      "outputs": [
        {
          "data": {
            "image/png": "[encoded data removed]",
            "text/plain": [
              "<Figure size 432x288 with 1 Axes>"
            ]
          },
          "metadata": {},
          "output_type": "display_data"
        }
      ],
      "source": [
        "# столбиковая диаграма\n",
        "df['Genre'].value_counts().plot(kind='bar');"
      ]
    },
    {
      "cell_type": "code",
      "execution_count": null,
      "id": "590dcf3b",
      "metadata": {
        "id": "590dcf3b",
        "outputId": "d8fcb435-cdbd-4e07-f0b7-b440ee92c6af"
      },
      "outputs": [
        {
          "data": {
            "text/plain": [
              "<AxesSubplot:>"
            ]
          },
          "execution_count": 67,
          "metadata": {},
          "output_type": "execute_result"
        },
        {
          "data": {
            "image/png": "[encoded data removed]",
            "text/plain": [
              "<Figure size 432x288 with 1 Axes>"
            ]
          },
          "metadata": {},
          "output_type": "display_data"
        }
      ],
      "source": [
        "# гистограмма\n",
        "df['Year_of_Release'].hist()"
      ]
    },
    {
      "cell_type": "markdown",
      "id": "0a293954",
      "metadata": {
        "id": "0a293954"
      },
      "source": [
        "# 30\n",
        "корреляция"
      ]
    },
    {
      "cell_type": "code",
      "execution_count": null,
      "id": "f1de7660",
      "metadata": {
        "id": "f1de7660",
        "outputId": "a2f4d25c-54bd-446b-88c4-33aa4663874e"
      },
      "outputs": [
        {
          "data": {
            "text/html": [
              "<div>\n",
              "<style scoped>\n",
              "    .dataframe tbody tr th:only-of-type {\n",
              "        vertical-align: middle;\n",
              "    }\n",
              "\n",
              "    .dataframe tbody tr th {\n",
              "        vertical-align: top;\n",
              "    }\n",
              "\n",
              "    .dataframe thead th {\n",
              "        text-align: right;\n",
              "    }\n",
              "</style>\n",
              "<table border=\"1\" class=\"dataframe\">\n",
              "  <thead>\n",
              "    <tr style=\"text-align: right;\">\n",
              "      <th></th>\n",
              "      <th>EU_Sales</th>\n",
              "    </tr>\n",
              "  </thead>\n",
              "  <tbody>\n",
              "    <tr>\n",
              "      <th>Year_of_Release</th>\n",
              "      <td>0.003842</td>\n",
              "    </tr>\n",
              "    <tr>\n",
              "      <th>NA_Sales</th>\n",
              "      <td>0.765336</td>\n",
              "    </tr>\n",
              "    <tr>\n",
              "      <th>EU_Sales</th>\n",
              "      <td>1.000000</td>\n",
              "    </tr>\n",
              "    <tr>\n",
              "      <th>JP_Sales</th>\n",
              "      <td>0.435068</td>\n",
              "    </tr>\n",
              "    <tr>\n",
              "      <th>Other_Sales</th>\n",
              "      <td>0.722796</td>\n",
              "    </tr>\n",
              "    <tr>\n",
              "      <th>Global_Sales</th>\n",
              "      <td>0.901239</td>\n",
              "    </tr>\n",
              "    <tr>\n",
              "      <th>Critic_Score</th>\n",
              "      <td>0.220752</td>\n",
              "    </tr>\n",
              "    <tr>\n",
              "      <th>Critic_Count</th>\n",
              "      <td>0.277533</td>\n",
              "    </tr>\n",
              "    <tr>\n",
              "      <th>User_Count</th>\n",
              "      <td>0.283360</td>\n",
              "    </tr>\n",
              "    <tr>\n",
              "      <th>Platform_Coded</th>\n",
              "      <td>0.060266</td>\n",
              "    </tr>\n",
              "  </tbody>\n",
              "</table>\n",
              "</div>"
            ],
            "text/plain": [
              "                 EU_Sales\n",
              "Year_of_Release  0.003842\n",
              "NA_Sales         0.765336\n",
              "EU_Sales         1.000000\n",
              "JP_Sales         0.435068\n",
              "Other_Sales      0.722796\n",
              "Global_Sales     0.901239\n",
              "Critic_Score     0.220752\n",
              "Critic_Count     0.277533\n",
              "User_Count       0.283360\n",
              "Platform_Coded   0.060266"
            ]
          },
          "execution_count": 76,
          "metadata": {},
          "output_type": "execute_result"
        }
      ],
      "source": [
        "df.corr()['EU_Sales'].to_frame()"
      ]
    },
    {
      "cell_type": "code",
      "execution_count": null,
      "id": "645c99cb",
      "metadata": {
        "id": "645c99cb",
        "outputId": "280d115e-6ad3-4c4d-ec0e-1c1e73c7fdcc"
      },
      "outputs": [
        {
          "data": {
            "text/plain": [
              "0.9"
            ]
          },
          "execution_count": 77,
          "metadata": {},
          "output_type": "execute_result"
        }
      ],
      "source": [
        "corr1 = df.corr()['EU_Sales']\n",
        "round(corr1.sort_values(key=lambda x: abs(x), ascending=False).iloc[1], 2)"
      ]
    },
    {
      "cell_type": "markdown",
      "id": "vrBbSfcgxo2u",
      "metadata": {
        "id": "vrBbSfcgxo2u"
      },
      "source": [
        "# 31 - 32 моя кр"
      ]
    },
    {
      "cell_type": "markdown",
      "id": "30CZoCt7ocfU",
      "metadata": {
        "id": "30CZoCt7ocfU"
      },
      "source": [
        "## 31"
      ]
    },
    {
      "cell_type": "code",
      "execution_count": null,
      "id": "5plaNzjYxt1U",
      "metadata": {
        "colab": {
          "base_uri": "https://localhost:8080/",
          "height": 172
        },
        "id": "5plaNzjYxt1U",
        "outputId": "2176a718-d597-48a0-db72-4bcd3d41bbd5"
      },
      "outputs": [
        {
          "data": {
            "text/html": [
              "\n",
              "  <div id=\"df-99226fc0-fdc5-4d1b-83e0-b27d594597a0\">\n",
              "    <div class=\"colab-df-container\">\n",
              "      <div>\n",
              "<style scoped>\n",
              "    .dataframe tbody tr th:only-of-type {\n",
              "        vertical-align: middle;\n",
              "    }\n",
              "\n",
              "    .dataframe tbody tr th {\n",
              "        vertical-align: top;\n",
              "    }\n",
              "\n",
              "    .dataframe thead th {\n",
              "        text-align: right;\n",
              "    }\n",
              "</style>\n",
              "<table border=\"1\" class=\"dataframe\">\n",
              "  <thead>\n",
              "    <tr style=\"text-align: right;\">\n",
              "      <th></th>\n",
              "      <th>first_name</th>\n",
              "      <th>last_name</th>\n",
              "      <th>Genre</th>\n",
              "      <th>M1</th>\n",
              "      <th>M2</th>\n",
              "      <th>M3</th>\n",
              "      <th>Y1</th>\n",
              "      <th>Y2</th>\n",
              "    </tr>\n",
              "  </thead>\n",
              "  <tbody>\n",
              "    <tr>\n",
              "      <th>0</th>\n",
              "      <td>Arlena</td>\n",
              "      <td>Rulton</td>\n",
              "      <td>Drama</td>\n",
              "      <td>97.18</td>\n",
              "      <td>0.088130</td>\n",
              "      <td>78</td>\n",
              "      <td>0.0</td>\n",
              "      <td>1.0</td>\n",
              "    </tr>\n",
              "    <tr>\n",
              "      <th>1</th>\n",
              "      <td>Othilia</td>\n",
              "      <td>Shailer</td>\n",
              "      <td>Comedy|Drama</td>\n",
              "      <td>103.84</td>\n",
              "      <td>0.066219</td>\n",
              "      <td>79</td>\n",
              "      <td>NaN</td>\n",
              "      <td>1.0</td>\n",
              "    </tr>\n",
              "    <tr>\n",
              "      <th>2</th>\n",
              "      <td>Hyman</td>\n",
              "      <td>Oxshott</td>\n",
              "      <td>Children|Drama</td>\n",
              "      <td>99.12</td>\n",
              "      <td>0.008806</td>\n",
              "      <td>88</td>\n",
              "      <td>0.0</td>\n",
              "      <td>1.0</td>\n",
              "    </tr>\n",
              "    <tr>\n",
              "      <th>3</th>\n",
              "      <td>Dallas</td>\n",
              "      <td>Forster</td>\n",
              "      <td>Action|Adventure|Sci-Fi</td>\n",
              "      <td>100.77</td>\n",
              "      <td>0.061354</td>\n",
              "      <td>97</td>\n",
              "      <td>NaN</td>\n",
              "      <td>1.0</td>\n",
              "    </tr>\n",
              "    <tr>\n",
              "      <th>4</th>\n",
              "      <td>Jeddy</td>\n",
              "      <td>Woolnough</td>\n",
              "      <td>Drama</td>\n",
              "      <td>101.94</td>\n",
              "      <td>0.040866</td>\n",
              "      <td>80</td>\n",
              "      <td>0.0</td>\n",
              "      <td>1.0</td>\n",
              "    </tr>\n",
              "  </tbody>\n",
              "</table>\n",
              "</div>\n",
              "      <button class=\"colab-df-convert\" onclick=\"convertToInteractive('df-99226fc0-fdc5-4d1b-83e0-b27d594597a0')\"\n",
              "              title=\"Convert this dataframe to an interactive table.\"\n",
              "              style=\"display:none;\">\n",
              "        \n",
              "  <svg xmlns=\"http://www.w3.org/2000/svg\" height=\"24px\"viewBox=\"0 0 24 24\"\n",
              "       width=\"24px\">\n",
              "    <path d=\"M0 0h24v24H0V0z\" fill=\"none\"/>\n",
              "    <path d=\"M18.56 5.44l.94 2.06.94-2.06 2.06-.94-2.06-.94-.94-2.06-.94 2.06-2.06.94zm-11 1L8.5 8.5l.94-2.06 2.06-.94-2.06-.94L8.5 2.5l-.94 2.06-2.06.94zm10 10l.94 2.06.94-2.06 2.06-.94-2.06-.94-.94-2.06-.94 2.06-2.06.94z\"/><path d=\"M17.41 7.96l-1.37-1.37c-.4-.4-.92-.59-1.43-.59-.52 0-1.04.2-1.43.59L10.3 9.45l-7.72 7.72c-.78.78-.78 2.05 0 2.83L4 21.41c.39.39.9.59 1.41.59.51 0 1.02-.2 1.41-.59l7.78-7.78 2.81-2.81c.8-.78.8-2.07 0-2.86zM5.41 20L4 18.59l7.72-7.72 1.47 1.35L5.41 20z\"/>\n",
              "  </svg>\n",
              "      </button>\n",
              "      \n",
              "  <style>\n",
              "    .colab-df-container {\n",
              "      display:flex;\n",
              "      flex-wrap:wrap;\n",
              "      gap: 12px;\n",
              "    }\n",
              "\n",
              "    .colab-df-convert {\n",
              "      background-color: #E8F0FE;\n",
              "      border: none;\n",
              "      border-radius: 50%;\n",
              "      cursor: pointer;\n",
              "      display: none;\n",
              "      fill: #1967D2;\n",
              "      height: 32px;\n",
              "      padding: 0 0 0 0;\n",
              "      width: 32px;\n",
              "    }\n",
              "\n",
              "    .colab-df-convert:hover {\n",
              "      background-color: #E2EBFA;\n",
              "      box-shadow: 0px 1px 2px rgba(60, 64, 67, 0.3), 0px 1px 3px 1px rgba(60, 64, 67, 0.15);\n",
              "      fill: #174EA6;\n",
              "    }\n",
              "\n",
              "    [theme=dark] .colab-df-convert {\n",
              "      background-color: #3B4455;\n",
              "      fill: #D2E3FC;\n",
              "    }\n",
              "\n",
              "    [theme=dark] .colab-df-convert:hover {\n",
              "      background-color: #434B5C;\n",
              "      box-shadow: 0px 1px 3px 1px rgba(0, 0, 0, 0.15);\n",
              "      filter: drop-shadow(0px 1px 2px rgba(0, 0, 0, 0.3));\n",
              "      fill: #FFFFFF;\n",
              "    }\n",
              "  </style>\n",
              "\n",
              "      <script>\n",
              "        const buttonEl =\n",
              "          document.querySelector('#df-99226fc0-fdc5-4d1b-83e0-b27d594597a0 button.colab-df-convert');\n",
              "        buttonEl.style.display =\n",
              "          google.colab.kernel.accessAllowed ? 'block' : 'none';\n",
              "\n",
              "        async function convertToInteractive(key) {\n",
              "          const element = document.querySelector('#df-99226fc0-fdc5-4d1b-83e0-b27d594597a0');\n",
              "          const dataTable =\n",
              "            await google.colab.kernel.invokeFunction('convertToInteractive',\n",
              "                                                     [key], {});\n",
              "          if (!dataTable) return;\n",
              "\n",
              "          const docLinkHtml = 'Like what you see? Visit the ' +\n",
              "            '<a target=\"_blank\" href=https://colab.research.google.com/notebooks/data_table.ipynb>data table notebook</a>'\n",
              "            + ' to learn more about interactive tables.';\n",
              "          element.innerHTML = '';\n",
              "          dataTable['output_type'] = 'display_data';\n",
              "          await google.colab.output.renderOutput(dataTable, element);\n",
              "          const docLink = document.createElement('div');\n",
              "          docLink.innerHTML = docLinkHtml;\n",
              "          element.appendChild(docLink);\n",
              "        }\n",
              "      </script>\n",
              "    </div>\n",
              "  </div>\n",
              "  "
            ],
            "text/plain": [
              "  first_name  last_name                    Genre      M1        M2  M3   Y1  \\\n",
              "0     Arlena     Rulton                    Drama   97.18  0.088130  78  0.0   \n",
              "1    Othilia    Shailer             Comedy|Drama  103.84  0.066219  79  NaN   \n",
              "2      Hyman    Oxshott           Children|Drama   99.12  0.008806  88  0.0   \n",
              "3     Dallas    Forster  Action|Adventure|Sci-Fi  100.77  0.061354  97  NaN   \n",
              "4      Jeddy  Woolnough                    Drama  101.94  0.040866  80  0.0   \n",
              "\n",
              "    Y2  \n",
              "0  1.0  \n",
              "1  1.0  \n",
              "2  1.0  \n",
              "3  1.0  \n",
              "4  1.0  "
            ]
          },
          "execution_count": 3,
          "metadata": {},
          "output_type": "execute_result"
        }
      ],
      "source": [
        "import pandas as pd\n",
        "df = pd.read_csv('data.csv')\n",
        "df.head()"
      ]
    },
    {
      "cell_type": "code",
      "execution_count": null,
      "id": "4kHSh1sTxoSI",
      "metadata": {
        "id": "4kHSh1sTxoSI"
      },
      "outputs": [],
      "source": [
        "# 1 - создаем столбики с нужными признаками M2×M3 и ln(300+M2)\n",
        "\n",
        "df['first'] = df['M2'] * df['M3'] # df_new = pd.DataFrame()\n",
        "\n",
        "import numpy as np\n",
        "df['second'] = np.log(df['M2'] + 300)"
      ]
    },
    {
      "cell_type": "code",
      "execution_count": null,
      "id": "X_oeU7wSevNF",
      "metadata": {
        "colab": {
          "base_uri": "https://localhost:8080/",
          "height": 172
        },
        "id": "X_oeU7wSevNF",
        "outputId": "039fd0cc-310c-46b6-a9b8-9f951cf7923d"
      },
      "outputs": [
        {
          "data": {
            "text/html": [
              "\n",
              "  <div id=\"df-aa7e8f09-ba13-45ad-9824-452020da46f8\">\n",
              "    <div class=\"colab-df-container\">\n",
              "      <div>\n",
              "<style scoped>\n",
              "    .dataframe tbody tr th:only-of-type {\n",
              "        vertical-align: middle;\n",
              "    }\n",
              "\n",
              "    .dataframe tbody tr th {\n",
              "        vertical-align: top;\n",
              "    }\n",
              "\n",
              "    .dataframe thead th {\n",
              "        text-align: right;\n",
              "    }\n",
              "</style>\n",
              "<table border=\"1\" class=\"dataframe\">\n",
              "  <thead>\n",
              "    <tr style=\"text-align: right;\">\n",
              "      <th></th>\n",
              "      <th>first_name</th>\n",
              "      <th>last_name</th>\n",
              "      <th>Genre</th>\n",
              "      <th>M1</th>\n",
              "      <th>M2</th>\n",
              "      <th>M3</th>\n",
              "      <th>Y1</th>\n",
              "      <th>Y2</th>\n",
              "      <th>first</th>\n",
              "      <th>second</th>\n",
              "    </tr>\n",
              "  </thead>\n",
              "  <tbody>\n",
              "    <tr>\n",
              "      <th>0</th>\n",
              "      <td>Arlena</td>\n",
              "      <td>Rulton</td>\n",
              "      <td>Drama</td>\n",
              "      <td>97.18</td>\n",
              "      <td>0.088130</td>\n",
              "      <td>78</td>\n",
              "      <td>0.0</td>\n",
              "      <td>1.0</td>\n",
              "      <td>6.874143</td>\n",
              "      <td>5.704076</td>\n",
              "    </tr>\n",
              "    <tr>\n",
              "      <th>1</th>\n",
              "      <td>Othilia</td>\n",
              "      <td>Shailer</td>\n",
              "      <td>Comedy|Drama</td>\n",
              "      <td>103.84</td>\n",
              "      <td>0.066219</td>\n",
              "      <td>79</td>\n",
              "      <td>NaN</td>\n",
              "      <td>1.0</td>\n",
              "      <td>5.231272</td>\n",
              "      <td>5.704003</td>\n",
              "    </tr>\n",
              "    <tr>\n",
              "      <th>2</th>\n",
              "      <td>Hyman</td>\n",
              "      <td>Oxshott</td>\n",
              "      <td>Children|Drama</td>\n",
              "      <td>99.12</td>\n",
              "      <td>0.008806</td>\n",
              "      <td>88</td>\n",
              "      <td>0.0</td>\n",
              "      <td>1.0</td>\n",
              "      <td>0.774890</td>\n",
              "      <td>5.703812</td>\n",
              "    </tr>\n",
              "    <tr>\n",
              "      <th>3</th>\n",
              "      <td>Dallas</td>\n",
              "      <td>Forster</td>\n",
              "      <td>Action|Adventure|Sci-Fi</td>\n",
              "      <td>100.77</td>\n",
              "      <td>0.061354</td>\n",
              "      <td>97</td>\n",
              "      <td>NaN</td>\n",
              "      <td>1.0</td>\n",
              "      <td>5.951320</td>\n",
              "      <td>5.703987</td>\n",
              "    </tr>\n",
              "    <tr>\n",
              "      <th>4</th>\n",
              "      <td>Jeddy</td>\n",
              "      <td>Woolnough</td>\n",
              "      <td>Drama</td>\n",
              "      <td>101.94</td>\n",
              "      <td>0.040866</td>\n",
              "      <td>80</td>\n",
              "      <td>0.0</td>\n",
              "      <td>1.0</td>\n",
              "      <td>3.269279</td>\n",
              "      <td>5.703919</td>\n",
              "    </tr>\n",
              "  </tbody>\n",
              "</table>\n",
              "</div>\n",
              "      <button class=\"colab-df-convert\" onclick=\"convertToInteractive('df-aa7e8f09-ba13-45ad-9824-452020da46f8')\"\n",
              "              title=\"Convert this dataframe to an interactive table.\"\n",
              "              style=\"display:none;\">\n",
              "        \n",
              "  <svg xmlns=\"http://www.w3.org/2000/svg\" height=\"24px\"viewBox=\"0 0 24 24\"\n",
              "       width=\"24px\">\n",
              "    <path d=\"M0 0h24v24H0V0z\" fill=\"none\"/>\n",
              "    <path d=\"M18.56 5.44l.94 2.06.94-2.06 2.06-.94-2.06-.94-.94-2.06-.94 2.06-2.06.94zm-11 1L8.5 8.5l.94-2.06 2.06-.94-2.06-.94L8.5 2.5l-.94 2.06-2.06.94zm10 10l.94 2.06.94-2.06 2.06-.94-2.06-.94-.94-2.06-.94 2.06-2.06.94z\"/><path d=\"M17.41 7.96l-1.37-1.37c-.4-.4-.92-.59-1.43-.59-.52 0-1.04.2-1.43.59L10.3 9.45l-7.72 7.72c-.78.78-.78 2.05 0 2.83L4 21.41c.39.39.9.59 1.41.59.51 0 1.02-.2 1.41-.59l7.78-7.78 2.81-2.81c.8-.78.8-2.07 0-2.86zM5.41 20L4 18.59l7.72-7.72 1.47 1.35L5.41 20z\"/>\n",
              "  </svg>\n",
              "      </button>\n",
              "      \n",
              "  <style>\n",
              "    .colab-df-container {\n",
              "      display:flex;\n",
              "      flex-wrap:wrap;\n",
              "      gap: 12px;\n",
              "    }\n",
              "\n",
              "    .colab-df-convert {\n",
              "      background-color: #E8F0FE;\n",
              "      border: none;\n",
              "      border-radius: 50%;\n",
              "      cursor: pointer;\n",
              "      display: none;\n",
              "      fill: #1967D2;\n",
              "      height: 32px;\n",
              "      padding: 0 0 0 0;\n",
              "      width: 32px;\n",
              "    }\n",
              "\n",
              "    .colab-df-convert:hover {\n",
              "      background-color: #E2EBFA;\n",
              "      box-shadow: 0px 1px 2px rgba(60, 64, 67, 0.3), 0px 1px 3px 1px rgba(60, 64, 67, 0.15);\n",
              "      fill: #174EA6;\n",
              "    }\n",
              "\n",
              "    [theme=dark] .colab-df-convert {\n",
              "      background-color: #3B4455;\n",
              "      fill: #D2E3FC;\n",
              "    }\n",
              "\n",
              "    [theme=dark] .colab-df-convert:hover {\n",
              "      background-color: #434B5C;\n",
              "      box-shadow: 0px 1px 3px 1px rgba(0, 0, 0, 0.15);\n",
              "      filter: drop-shadow(0px 1px 2px rgba(0, 0, 0, 0.3));\n",
              "      fill: #FFFFFF;\n",
              "    }\n",
              "  </style>\n",
              "\n",
              "      <script>\n",
              "        const buttonEl =\n",
              "          document.querySelector('#df-aa7e8f09-ba13-45ad-9824-452020da46f8 button.colab-df-convert');\n",
              "        buttonEl.style.display =\n",
              "          google.colab.kernel.accessAllowed ? 'block' : 'none';\n",
              "\n",
              "        async function convertToInteractive(key) {\n",
              "          const element = document.querySelector('#df-aa7e8f09-ba13-45ad-9824-452020da46f8');\n",
              "          const dataTable =\n",
              "            await google.colab.kernel.invokeFunction('convertToInteractive',\n",
              "                                                     [key], {});\n",
              "          if (!dataTable) return;\n",
              "\n",
              "          const docLinkHtml = 'Like what you see? Visit the ' +\n",
              "            '<a target=\"_blank\" href=https://colab.research.google.com/notebooks/data_table.ipynb>data table notebook</a>'\n",
              "            + ' to learn more about interactive tables.';\n",
              "          element.innerHTML = '';\n",
              "          dataTable['output_type'] = 'display_data';\n",
              "          await google.colab.output.renderOutput(dataTable, element);\n",
              "          const docLink = document.createElement('div');\n",
              "          docLink.innerHTML = docLinkHtml;\n",
              "          element.appendChild(docLink);\n",
              "        }\n",
              "      </script>\n",
              "    </div>\n",
              "  </div>\n",
              "  "
            ],
            "text/plain": [
              "  first_name  last_name                    Genre      M1        M2  M3   Y1  \\\n",
              "0     Arlena     Rulton                    Drama   97.18  0.088130  78  0.0   \n",
              "1    Othilia    Shailer             Comedy|Drama  103.84  0.066219  79  NaN   \n",
              "2      Hyman    Oxshott           Children|Drama   99.12  0.008806  88  0.0   \n",
              "3     Dallas    Forster  Action|Adventure|Sci-Fi  100.77  0.061354  97  NaN   \n",
              "4      Jeddy  Woolnough                    Drama  101.94  0.040866  80  0.0   \n",
              "\n",
              "    Y2     first    second  \n",
              "0  1.0  6.874143  5.704076  \n",
              "1  1.0  5.231272  5.704003  \n",
              "2  1.0  0.774890  5.703812  \n",
              "3  1.0  5.951320  5.703987  \n",
              "4  1.0  3.269279  5.703919  "
            ]
          },
          "execution_count": 24,
          "metadata": {},
          "output_type": "execute_result"
        }
      ],
      "source": [
        "df.head()"
      ]
    },
    {
      "cell_type": "code",
      "execution_count": null,
      "id": "IK7yMGJvxtH6",
      "metadata": {
        "colab": {
          "base_uri": "https://localhost:8080/"
        },
        "id": "IK7yMGJvxtH6",
        "outputId": "2e26f34f-3823-45bb-940c-03ae8d3e181a"
      },
      "outputs": [
        {
          "data": {
            "text/plain": [
              "True"
            ]
          },
          "execution_count": 5,
          "metadata": {},
          "output_type": "execute_result"
        }
      ],
      "source": [
        "# *можно вот так.\n",
        "import math\n",
        "(df['M2'] + 300).apply(lambda x: math.log(x))\n",
        "\n",
        "# Это аналогично np.log(df['M2'] + 300)\n",
        "((df['M2'] + 300).apply(lambda x: math.log(x)) == df['second']).all()"
      ]
    },
    {
      "cell_type": "code",
      "execution_count": null,
      "id": "NeELUQTFCYAC",
      "metadata": {
        "id": "NeELUQTFCYAC"
      },
      "outputs": [],
      "source": [
        "X = df[['first', 'second']]\n",
        "y = df['M1']"
      ]
    },
    {
      "cell_type": "markdown",
      "id": "uSoYBCODA3is",
      "metadata": {
        "id": "uSoYBCODA3is"
      },
      "source": [
        "[linerregression](https://scikit-learn.org/stable/modules/generated/sklearn.linear_model.LinearRegression.html)"
      ]
    },
    {
      "cell_type": "code",
      "execution_count": null,
      "id": "73zD6wP9xtKO",
      "metadata": {
        "colab": {
          "base_uri": "https://localhost:8080/",
          "height": 74
        },
        "id": "73zD6wP9xtKO",
        "outputId": "3f3d1f9b-7f19-4338-d42f-2626f47672ce"
      },
      "outputs": [
        {
          "data": {
            "text/html": [
              "<style>#sk-container-id-1 {color: black;background-color: white;}#sk-container-id-1 pre{padding: 0;}#sk-container-id-1 div.sk-toggleable {background-color: white;}#sk-container-id-1 label.sk-toggleable__label {cursor: pointer;display: block;width: 100%;margin-bottom: 0;padding: 0.3em;box-sizing: border-box;text-align: center;}#sk-container-id-1 label.sk-toggleable__label-arrow:before {content: \"▸\";float: left;margin-right: 0.25em;color: #696969;}#sk-container-id-1 label.sk-toggleable__label-arrow:hover:before {color: black;}#sk-container-id-1 div.sk-estimator:hover label.sk-toggleable__label-arrow:before {color: black;}#sk-container-id-1 div.sk-toggleable__content {max-height: 0;max-width: 0;overflow: hidden;text-align: left;background-color: #f0f8ff;}#sk-container-id-1 div.sk-toggleable__content pre {margin: 0.2em;color: black;border-radius: 0.25em;background-color: #f0f8ff;}#sk-container-id-1 input.sk-toggleable__control:checked~div.sk-toggleable__content {max-height: 200px;max-width: 100%;overflow: auto;}#sk-container-id-1 input.sk-toggleable__control:checked~label.sk-toggleable__label-arrow:before {content: \"▾\";}#sk-container-id-1 div.sk-estimator input.sk-toggleable__control:checked~label.sk-toggleable__label {background-color: #d4ebff;}#sk-container-id-1 div.sk-label input.sk-toggleable__control:checked~label.sk-toggleable__label {background-color: #d4ebff;}#sk-container-id-1 input.sk-hidden--visually {border: 0;clip: rect(1px 1px 1px 1px);clip: rect(1px, 1px, 1px, 1px);height: 1px;margin: -1px;overflow: hidden;padding: 0;position: absolute;width: 1px;}#sk-container-id-1 div.sk-estimator {font-family: monospace;background-color: #f0f8ff;border: 1px dotted black;border-radius: 0.25em;box-sizing: border-box;margin-bottom: 0.5em;}#sk-container-id-1 div.sk-estimator:hover {background-color: #d4ebff;}#sk-container-id-1 div.sk-parallel-item::after {content: \"\";width: 100%;border-bottom: 1px solid gray;flex-grow: 1;}#sk-container-id-1 div.sk-label:hover label.sk-toggleable__label {background-color: #d4ebff;}#sk-container-id-1 div.sk-serial::before {content: \"\";position: absolute;border-left: 1px solid gray;box-sizing: border-box;top: 0;bottom: 0;left: 50%;z-index: 0;}#sk-container-id-1 div.sk-serial {display: flex;flex-direction: column;align-items: center;background-color: white;padding-right: 0.2em;padding-left: 0.2em;position: relative;}#sk-container-id-1 div.sk-item {position: relative;z-index: 1;}#sk-container-id-1 div.sk-parallel {display: flex;align-items: stretch;justify-content: center;background-color: white;position: relative;}#sk-container-id-1 div.sk-item::before, #sk-container-id-1 div.sk-parallel-item::before {content: \"\";position: absolute;border-left: 1px solid gray;box-sizing: border-box;top: 0;bottom: 0;left: 50%;z-index: -1;}#sk-container-id-1 div.sk-parallel-item {display: flex;flex-direction: column;z-index: 1;position: relative;background-color: white;}#sk-container-id-1 div.sk-parallel-item:first-child::after {align-self: flex-end;width: 50%;}#sk-container-id-1 div.sk-parallel-item:last-child::after {align-self: flex-start;width: 50%;}#sk-container-id-1 div.sk-parallel-item:only-child::after {width: 0;}#sk-container-id-1 div.sk-dashed-wrapped {border: 1px dashed gray;margin: 0 0.4em 0.5em 0.4em;box-sizing: border-box;padding-bottom: 0.4em;background-color: white;}#sk-container-id-1 div.sk-label label {font-family: monospace;font-weight: bold;display: inline-block;line-height: 1.2em;}#sk-container-id-1 div.sk-label-container {text-align: center;}#sk-container-id-1 div.sk-container {/* jupyter's `normalize.less` sets `[hidden] { display: none; }` but bootstrap.min.css set `[hidden] { display: none !important; }` so we also need the `!important` here to be able to override the default hidden behavior on the sphinx rendered scikit-learn.org. See: https://github.com/scikit-learn/scikit-learn/issues/21755 */display: inline-block !important;position: relative;}#sk-container-id-1 div.sk-text-repr-fallback {display: none;}</style><div id=\"sk-container-id-1\" class=\"sk-top-container\"><div class=\"sk-text-repr-fallback\"><pre>LinearRegression()</pre><b>In a Jupyter environment, please rerun this cell to show the HTML representation or trust the notebook. <br />On GitHub, the HTML representation is unable to render, please try loading this page with nbviewer.org.</b></div><div class=\"sk-container\" hidden><div class=\"sk-item\"><div class=\"sk-estimator sk-toggleable\"><input class=\"sk-toggleable__control sk-hidden--visually\" id=\"sk-estimator-id-1\" type=\"checkbox\" checked><label for=\"sk-estimator-id-1\" class=\"sk-toggleable__label sk-toggleable__label-arrow\">LinearRegression</label><div class=\"sk-toggleable__content\"><pre>LinearRegression()</pre></div></div></div></div></div>"
            ],
            "text/plain": [
              "LinearRegression()"
            ]
          },
          "execution_count": 18,
          "metadata": {},
          "output_type": "execute_result"
        }
      ],
      "source": [
        "# 2\n",
        "from sklearn.linear_model import LinearRegression\n",
        "lin_reg = LinearRegression() # __init__() :)\n",
        "lin_reg.fit(X, y)"
      ]
    },
    {
      "cell_type": "code",
      "execution_count": null,
      "id": "XQOZHu6ixtMW",
      "metadata": {
        "colab": {
          "base_uri": "https://localhost:8080/"
        },
        "id": "XQOZHu6ixtMW",
        "outputId": "566adc12-c907-4609-c40b-619f7612490f"
      },
      "outputs": [
        {
          "data": {
            "text/plain": [
              "array([ 3.19696472e-04, -1.11682559e+02])"
            ]
          },
          "execution_count": 19,
          "metadata": {},
          "output_type": "execute_result"
        }
      ],
      "source": [
        "# получаем коэффициенты\n",
        "lin_reg.coef_ # -111.68"
      ]
    },
    {
      "cell_type": "code",
      "execution_count": null,
      "id": "k3jdQGIwEzcK",
      "metadata": {
        "colab": {
          "base_uri": "https://localhost:8080/"
        },
        "id": "k3jdQGIwEzcK",
        "outputId": "32050c07-b7a6-488d-f517-77d35e496d9a"
      },
      "outputs": [
        {
          "data": {
            "text/plain": [
              "array(['first', 'second'], dtype=object)"
            ]
          },
          "execution_count": 20,
          "metadata": {},
          "output_type": "execute_result"
        }
      ],
      "source": [
        "# удоставериться можно так\n",
        "lin_reg.feature_names_in_"
      ]
    },
    {
      "cell_type": "code",
      "execution_count": null,
      "id": "NUEL4me4EhZy",
      "metadata": {
        "colab": {
          "base_uri": "https://localhost:8080/"
        },
        "id": "NUEL4me4EhZy",
        "outputId": "ebbade16-2afb-4c88-f1f2-c3efe5354005"
      },
      "outputs": [
        {
          "data": {
            "text/plain": [
              "737.1028739089074"
            ]
          },
          "execution_count": 29,
          "metadata": {},
          "output_type": "execute_result"
        }
      ],
      "source": [
        "# свободный член - Independent term in the linear model\n",
        "lin_reg.intercept_"
      ]
    },
    {
      "cell_type": "markdown",
      "id": "KV9FyiRpoXm4",
      "metadata": {
        "id": "KV9FyiRpoXm4"
      },
      "source": [
        "## 32"
      ]
    },
    {
      "cell_type": "code",
      "execution_count": null,
      "id": "abYy4fZGoy5a",
      "metadata": {
        "id": "abYy4fZGoy5a"
      },
      "outputs": [],
      "source": [
        "y_pred = lin_reg.predict(X)"
      ]
    },
    {
      "cell_type": "code",
      "execution_count": null,
      "id": "020450cb",
      "metadata": {
        "colab": {
          "base_uri": "https://localhost:8080/"
        },
        "id": "020450cb",
        "outputId": "3e37c7c0-51bb-4355-9ebf-c78953c66d37"
      },
      "outputs": [
        {
          "name": "stdout",
          "output_type": "stream",
          "text": [
            "4.17\n"
          ]
        }
      ],
      "source": [
        "# значение среднеквадратичной ошибки (MSE)\n",
        "from sklearn.metrics import mean_squared_error\n",
        "MSE = mean_squared_error(y_pred, y)\n",
        "\n",
        "print(round(MSE, 2))"
      ]
    },
    {
      "cell_type": "code",
      "execution_count": null,
      "id": "fc34fcea",
      "metadata": {
        "colab": {
          "base_uri": "https://localhost:8080/"
        },
        "id": "fc34fcea",
        "outputId": "4ae1b1b7-1cef-45b5-89b1-8cd23c96157b"
      },
      "outputs": [
        {
          "name": "stdout",
          "output_type": "stream",
          "text": [
            "1.64\n"
          ]
        }
      ],
      "source": [
        "# значение средней абсолютной ошибки (MAE)\n",
        "from sklearn.metrics import mean_absolute_error\n",
        "MAE = mean_absolute_error(y_pred, y)\n",
        "\n",
        "print(round(MAE, 2))"
      ]
    },
    {
      "cell_type": "code",
      "execution_count": null,
      "id": "H-7UtnH6ohMi",
      "metadata": {
        "colab": {
          "base_uri": "https://localhost:8080/"
        },
        "id": "H-7UtnH6ohMi",
        "outputId": "d9434924-8cb2-470f-b03b-15f9b73d692d"
      },
      "outputs": [
        {
          "name": "stdout",
          "output_type": "stream",
          "text": [
            "0\n"
          ]
        }
      ],
      "source": [
        "# R2 - доля обьясненной дисперсии - coefficient of determination\n",
        "print(round(lin_reg.score(X, y)))"
      ]
    },
    {
      "cell_type": "markdown",
      "id": "IL3hHZ9IGngC",
      "metadata": {
        "id": "IL3hHZ9IGngC"
      },
      "source": [
        "# 31-32 демо"
      ]
    },
    {
      "cell_type": "code",
      "execution_count": null,
      "id": "no0jZsSVnniz",
      "metadata": {
        "colab": {
          "base_uri": "https://localhost:8080/",
          "height": 292
        },
        "id": "no0jZsSVnniz",
        "outputId": "f3d72f8c-6241-43d3-d718-d1e55207a1ad"
      },
      "outputs": [
        {
          "data": {
            "text/html": [
              "\n",
              "  <div id=\"df-b742782d-ea27-4ff4-a5b3-f1ad1b33133e\">\n",
              "    <div class=\"colab-df-container\">\n",
              "      <div>\n",
              "<style scoped>\n",
              "    .dataframe tbody tr th:only-of-type {\n",
              "        vertical-align: middle;\n",
              "    }\n",
              "\n",
              "    .dataframe tbody tr th {\n",
              "        vertical-align: top;\n",
              "    }\n",
              "\n",
              "    .dataframe thead th {\n",
              "        text-align: right;\n",
              "    }\n",
              "</style>\n",
              "<table border=\"1\" class=\"dataframe\">\n",
              "  <thead>\n",
              "    <tr style=\"text-align: right;\">\n",
              "      <th></th>\n",
              "      <th>Name</th>\n",
              "      <th>Platform</th>\n",
              "      <th>Year_of_Release</th>\n",
              "      <th>Genre</th>\n",
              "      <th>Publisher</th>\n",
              "      <th>NA_Sales</th>\n",
              "      <th>EU_Sales</th>\n",
              "      <th>JP_Sales</th>\n",
              "      <th>Other_Sales</th>\n",
              "      <th>Global_Sales</th>\n",
              "      <th>Critic_Score</th>\n",
              "      <th>Critic_Count</th>\n",
              "      <th>User_Score</th>\n",
              "      <th>User_Count</th>\n",
              "      <th>Developer</th>\n",
              "      <th>Rating</th>\n",
              "    </tr>\n",
              "  </thead>\n",
              "  <tbody>\n",
              "    <tr>\n",
              "      <th>0</th>\n",
              "      <td>Wii Sports</td>\n",
              "      <td>Wii</td>\n",
              "      <td>2006.0</td>\n",
              "      <td>Sports</td>\n",
              "      <td>Nintendo</td>\n",
              "      <td>41.36</td>\n",
              "      <td>28.96</td>\n",
              "      <td>3.77</td>\n",
              "      <td>8.45</td>\n",
              "      <td>82.53</td>\n",
              "      <td>76.0</td>\n",
              "      <td>51.0</td>\n",
              "      <td>8</td>\n",
              "      <td>322.0</td>\n",
              "      <td>Nintendo</td>\n",
              "      <td>E</td>\n",
              "    </tr>\n",
              "    <tr>\n",
              "      <th>1</th>\n",
              "      <td>Super Mario Bros.</td>\n",
              "      <td>NES</td>\n",
              "      <td>1985.0</td>\n",
              "      <td>Platform</td>\n",
              "      <td>Nintendo</td>\n",
              "      <td>29.08</td>\n",
              "      <td>3.58</td>\n",
              "      <td>6.81</td>\n",
              "      <td>0.77</td>\n",
              "      <td>40.24</td>\n",
              "      <td>NaN</td>\n",
              "      <td>NaN</td>\n",
              "      <td>NaN</td>\n",
              "      <td>NaN</td>\n",
              "      <td>NaN</td>\n",
              "      <td>NaN</td>\n",
              "    </tr>\n",
              "    <tr>\n",
              "      <th>2</th>\n",
              "      <td>Mario Kart Wii</td>\n",
              "      <td>Wii</td>\n",
              "      <td>2008.0</td>\n",
              "      <td>Racing</td>\n",
              "      <td>Nintendo</td>\n",
              "      <td>15.68</td>\n",
              "      <td>12.76</td>\n",
              "      <td>3.79</td>\n",
              "      <td>3.29</td>\n",
              "      <td>35.52</td>\n",
              "      <td>82.0</td>\n",
              "      <td>73.0</td>\n",
              "      <td>8.3</td>\n",
              "      <td>709.0</td>\n",
              "      <td>Nintendo</td>\n",
              "      <td>E</td>\n",
              "    </tr>\n",
              "    <tr>\n",
              "      <th>3</th>\n",
              "      <td>Wii Sports Resort</td>\n",
              "      <td>Wii</td>\n",
              "      <td>2009.0</td>\n",
              "      <td>Sports</td>\n",
              "      <td>Nintendo</td>\n",
              "      <td>15.61</td>\n",
              "      <td>10.93</td>\n",
              "      <td>3.28</td>\n",
              "      <td>2.95</td>\n",
              "      <td>32.77</td>\n",
              "      <td>80.0</td>\n",
              "      <td>73.0</td>\n",
              "      <td>8</td>\n",
              "      <td>192.0</td>\n",
              "      <td>Nintendo</td>\n",
              "      <td>E</td>\n",
              "    </tr>\n",
              "    <tr>\n",
              "      <th>4</th>\n",
              "      <td>Pokemon Red/Pokemon Blue</td>\n",
              "      <td>GB</td>\n",
              "      <td>1996.0</td>\n",
              "      <td>Role-Playing</td>\n",
              "      <td>Nintendo</td>\n",
              "      <td>11.27</td>\n",
              "      <td>8.89</td>\n",
              "      <td>10.22</td>\n",
              "      <td>1.00</td>\n",
              "      <td>31.37</td>\n",
              "      <td>NaN</td>\n",
              "      <td>NaN</td>\n",
              "      <td>NaN</td>\n",
              "      <td>NaN</td>\n",
              "      <td>NaN</td>\n",
              "      <td>NaN</td>\n",
              "    </tr>\n",
              "  </tbody>\n",
              "</table>\n",
              "</div>\n",
              "      <button class=\"colab-df-convert\" onclick=\"convertToInteractive('df-b742782d-ea27-4ff4-a5b3-f1ad1b33133e')\"\n",
              "              title=\"Convert this dataframe to an interactive table.\"\n",
              "              style=\"display:none;\">\n",
              "        \n",
              "  <svg xmlns=\"http://www.w3.org/2000/svg\" height=\"24px\"viewBox=\"0 0 24 24\"\n",
              "       width=\"24px\">\n",
              "    <path d=\"M0 0h24v24H0V0z\" fill=\"none\"/>\n",
              "    <path d=\"M18.56 5.44l.94 2.06.94-2.06 2.06-.94-2.06-.94-.94-2.06-.94 2.06-2.06.94zm-11 1L8.5 8.5l.94-2.06 2.06-.94-2.06-.94L8.5 2.5l-.94 2.06-2.06.94zm10 10l.94 2.06.94-2.06 2.06-.94-2.06-.94-.94-2.06-.94 2.06-2.06.94z\"/><path d=\"M17.41 7.96l-1.37-1.37c-.4-.4-.92-.59-1.43-.59-.52 0-1.04.2-1.43.59L10.3 9.45l-7.72 7.72c-.78.78-.78 2.05 0 2.83L4 21.41c.39.39.9.59 1.41.59.51 0 1.02-.2 1.41-.59l7.78-7.78 2.81-2.81c.8-.78.8-2.07 0-2.86zM5.41 20L4 18.59l7.72-7.72 1.47 1.35L5.41 20z\"/>\n",
              "  </svg>\n",
              "      </button>\n",
              "      \n",
              "  <style>\n",
              "    .colab-df-container {\n",
              "      display:flex;\n",
              "      flex-wrap:wrap;\n",
              "      gap: 12px;\n",
              "    }\n",
              "\n",
              "    .colab-df-convert {\n",
              "      background-color: #E8F0FE;\n",
              "      border: none;\n",
              "      border-radius: 50%;\n",
              "      cursor: pointer;\n",
              "      display: none;\n",
              "      fill: #1967D2;\n",
              "      height: 32px;\n",
              "      padding: 0 0 0 0;\n",
              "      width: 32px;\n",
              "    }\n",
              "\n",
              "    .colab-df-convert:hover {\n",
              "      background-color: #E2EBFA;\n",
              "      box-shadow: 0px 1px 2px rgba(60, 64, 67, 0.3), 0px 1px 3px 1px rgba(60, 64, 67, 0.15);\n",
              "      fill: #174EA6;\n",
              "    }\n",
              "\n",
              "    [theme=dark] .colab-df-convert {\n",
              "      background-color: #3B4455;\n",
              "      fill: #D2E3FC;\n",
              "    }\n",
              "\n",
              "    [theme=dark] .colab-df-convert:hover {\n",
              "      background-color: #434B5C;\n",
              "      box-shadow: 0px 1px 3px 1px rgba(0, 0, 0, 0.15);\n",
              "      filter: drop-shadow(0px 1px 2px rgba(0, 0, 0, 0.3));\n",
              "      fill: #FFFFFF;\n",
              "    }\n",
              "  </style>\n",
              "\n",
              "      <script>\n",
              "        const buttonEl =\n",
              "          document.querySelector('#df-b742782d-ea27-4ff4-a5b3-f1ad1b33133e button.colab-df-convert');\n",
              "        buttonEl.style.display =\n",
              "          google.colab.kernel.accessAllowed ? 'block' : 'none';\n",
              "\n",
              "        async function convertToInteractive(key) {\n",
              "          const element = document.querySelector('#df-b742782d-ea27-4ff4-a5b3-f1ad1b33133e');\n",
              "          const dataTable =\n",
              "            await google.colab.kernel.invokeFunction('convertToInteractive',\n",
              "                                                     [key], {});\n",
              "          if (!dataTable) return;\n",
              "\n",
              "          const docLinkHtml = 'Like what you see? Visit the ' +\n",
              "            '<a target=\"_blank\" href=https://colab.research.google.com/notebooks/data_table.ipynb>data table notebook</a>'\n",
              "            + ' to learn more about interactive tables.';\n",
              "          element.innerHTML = '';\n",
              "          dataTable['output_type'] = 'display_data';\n",
              "          await google.colab.output.renderOutput(dataTable, element);\n",
              "          const docLink = document.createElement('div');\n",
              "          docLink.innerHTML = docLinkHtml;\n",
              "          element.appendChild(docLink);\n",
              "        }\n",
              "      </script>\n",
              "    </div>\n",
              "  </div>\n",
              "  "
            ],
            "text/plain": [
              "                       Name Platform  Year_of_Release         Genre Publisher  \\\n",
              "0                Wii Sports      Wii           2006.0        Sports  Nintendo   \n",
              "1         Super Mario Bros.      NES           1985.0      Platform  Nintendo   \n",
              "2            Mario Kart Wii      Wii           2008.0        Racing  Nintendo   \n",
              "3         Wii Sports Resort      Wii           2009.0        Sports  Nintendo   \n",
              "4  Pokemon Red/Pokemon Blue       GB           1996.0  Role-Playing  Nintendo   \n",
              "\n",
              "   NA_Sales  EU_Sales  JP_Sales  Other_Sales  Global_Sales  Critic_Score  \\\n",
              "0     41.36     28.96      3.77         8.45         82.53          76.0   \n",
              "1     29.08      3.58      6.81         0.77         40.24           NaN   \n",
              "2     15.68     12.76      3.79         3.29         35.52          82.0   \n",
              "3     15.61     10.93      3.28         2.95         32.77          80.0   \n",
              "4     11.27      8.89     10.22         1.00         31.37           NaN   \n",
              "\n",
              "   Critic_Count User_Score  User_Count Developer Rating  \n",
              "0          51.0          8       322.0  Nintendo      E  \n",
              "1           NaN        NaN         NaN       NaN    NaN  \n",
              "2          73.0        8.3       709.0  Nintendo      E  \n",
              "3          73.0          8       192.0  Nintendo      E  \n",
              "4           NaN        NaN         NaN       NaN    NaN  "
            ]
          },
          "execution_count": 15,
          "metadata": {},
          "output_type": "execute_result"
        }
      ],
      "source": [
        "import pandas as pd\n",
        "df = pd.read_csv('c.csv')\n",
        "df.head()"
      ]
    },
    {
      "cell_type": "markdown",
      "id": "nEjEnoIhAt4U",
      "metadata": {
        "id": "nEjEnoIhAt4U"
      },
      "source": [
        "[условие](https://drive.google.com/file/d/1Xo-RJ0CBae3I9EaHrz2vg8kCUBR9TBJL/view?usp=sharing)"
      ]
    },
    {
      "cell_type": "code",
      "execution_count": null,
      "id": "ALjDtng9_RsG",
      "metadata": {
        "id": "ALjDtng9_RsG"
      },
      "outputs": [],
      "source": [
        "X = df[['NA_Sales']]\n",
        "y = df['Global_Sales']"
      ]
    },
    {
      "cell_type": "code",
      "execution_count": null,
      "id": "rMVRJCQPFD90",
      "metadata": {
        "colab": {
          "base_uri": "https://localhost:8080/",
          "height": 352
        },
        "id": "rMVRJCQPFD90",
        "outputId": "b6cb5fbf-b2e0-4ba4-a0d8-9028eed8ee32"
      },
      "outputs": [
        {
          "data": {
            "text/html": [
              "\n",
              "  <div id=\"df-2db77922-1531-440a-bde9-d94ea5376639\">\n",
              "    <div class=\"colab-df-container\">\n",
              "      <div>\n",
              "<style scoped>\n",
              "    .dataframe tbody tr th:only-of-type {\n",
              "        vertical-align: middle;\n",
              "    }\n",
              "\n",
              "    .dataframe tbody tr th {\n",
              "        vertical-align: top;\n",
              "    }\n",
              "\n",
              "    .dataframe thead th {\n",
              "        text-align: right;\n",
              "    }\n",
              "</style>\n",
              "<table border=\"1\" class=\"dataframe\">\n",
              "  <thead>\n",
              "    <tr style=\"text-align: right;\">\n",
              "      <th></th>\n",
              "      <th>NA_Sales</th>\n",
              "    </tr>\n",
              "  </thead>\n",
              "  <tbody>\n",
              "    <tr>\n",
              "      <th>0</th>\n",
              "      <td>41.36</td>\n",
              "    </tr>\n",
              "    <tr>\n",
              "      <th>1</th>\n",
              "      <td>29.08</td>\n",
              "    </tr>\n",
              "    <tr>\n",
              "      <th>2</th>\n",
              "      <td>15.68</td>\n",
              "    </tr>\n",
              "    <tr>\n",
              "      <th>3</th>\n",
              "      <td>15.61</td>\n",
              "    </tr>\n",
              "    <tr>\n",
              "      <th>4</th>\n",
              "      <td>11.27</td>\n",
              "    </tr>\n",
              "    <tr>\n",
              "      <th>...</th>\n",
              "      <td>...</td>\n",
              "    </tr>\n",
              "    <tr>\n",
              "      <th>16714</th>\n",
              "      <td>0.00</td>\n",
              "    </tr>\n",
              "    <tr>\n",
              "      <th>16715</th>\n",
              "      <td>0.00</td>\n",
              "    </tr>\n",
              "    <tr>\n",
              "      <th>16716</th>\n",
              "      <td>0.00</td>\n",
              "    </tr>\n",
              "    <tr>\n",
              "      <th>16717</th>\n",
              "      <td>0.01</td>\n",
              "    </tr>\n",
              "    <tr>\n",
              "      <th>16718</th>\n",
              "      <td>0.00</td>\n",
              "    </tr>\n",
              "  </tbody>\n",
              "</table>\n",
              "<p>16719 rows × 1 columns</p>\n",
              "</div>\n",
              "      <button class=\"colab-df-convert\" onclick=\"convertToInteractive('df-2db77922-1531-440a-bde9-d94ea5376639')\"\n",
              "              title=\"Convert this dataframe to an interactive table.\"\n",
              "              style=\"display:none;\">\n",
              "        \n",
              "  <svg xmlns=\"http://www.w3.org/2000/svg\" height=\"24px\"viewBox=\"0 0 24 24\"\n",
              "       width=\"24px\">\n",
              "    <path d=\"M0 0h24v24H0V0z\" fill=\"none\"/>\n",
              "    <path d=\"M18.56 5.44l.94 2.06.94-2.06 2.06-.94-2.06-.94-.94-2.06-.94 2.06-2.06.94zm-11 1L8.5 8.5l.94-2.06 2.06-.94-2.06-.94L8.5 2.5l-.94 2.06-2.06.94zm10 10l.94 2.06.94-2.06 2.06-.94-2.06-.94-.94-2.06-.94 2.06-2.06.94z\"/><path d=\"M17.41 7.96l-1.37-1.37c-.4-.4-.92-.59-1.43-.59-.52 0-1.04.2-1.43.59L10.3 9.45l-7.72 7.72c-.78.78-.78 2.05 0 2.83L4 21.41c.39.39.9.59 1.41.59.51 0 1.02-.2 1.41-.59l7.78-7.78 2.81-2.81c.8-.78.8-2.07 0-2.86zM5.41 20L4 18.59l7.72-7.72 1.47 1.35L5.41 20z\"/>\n",
              "  </svg>\n",
              "      </button>\n",
              "      \n",
              "  <style>\n",
              "    .colab-df-container {\n",
              "      display:flex;\n",
              "      flex-wrap:wrap;\n",
              "      gap: 12px;\n",
              "    }\n",
              "\n",
              "    .colab-df-convert {\n",
              "      background-color: #E8F0FE;\n",
              "      border: none;\n",
              "      border-radius: 50%;\n",
              "      cursor: pointer;\n",
              "      display: none;\n",
              "      fill: #1967D2;\n",
              "      height: 32px;\n",
              "      padding: 0 0 0 0;\n",
              "      width: 32px;\n",
              "    }\n",
              "\n",
              "    .colab-df-convert:hover {\n",
              "      background-color: #E2EBFA;\n",
              "      box-shadow: 0px 1px 2px rgba(60, 64, 67, 0.3), 0px 1px 3px 1px rgba(60, 64, 67, 0.15);\n",
              "      fill: #174EA6;\n",
              "    }\n",
              "\n",
              "    [theme=dark] .colab-df-convert {\n",
              "      background-color: #3B4455;\n",
              "      fill: #D2E3FC;\n",
              "    }\n",
              "\n",
              "    [theme=dark] .colab-df-convert:hover {\n",
              "      background-color: #434B5C;\n",
              "      box-shadow: 0px 1px 3px 1px rgba(0, 0, 0, 0.15);\n",
              "      filter: drop-shadow(0px 1px 2px rgba(0, 0, 0, 0.3));\n",
              "      fill: #FFFFFF;\n",
              "    }\n",
              "  </style>\n",
              "\n",
              "      <script>\n",
              "        const buttonEl =\n",
              "          document.querySelector('#df-2db77922-1531-440a-bde9-d94ea5376639 button.colab-df-convert');\n",
              "        buttonEl.style.display =\n",
              "          google.colab.kernel.accessAllowed ? 'block' : 'none';\n",
              "\n",
              "        async function convertToInteractive(key) {\n",
              "          const element = document.querySelector('#df-2db77922-1531-440a-bde9-d94ea5376639');\n",
              "          const dataTable =\n",
              "            await google.colab.kernel.invokeFunction('convertToInteractive',\n",
              "                                                     [key], {});\n",
              "          if (!dataTable) return;\n",
              "\n",
              "          const docLinkHtml = 'Like what you see? Visit the ' +\n",
              "            '<a target=\"_blank\" href=https://colab.research.google.com/notebooks/data_table.ipynb>data table notebook</a>'\n",
              "            + ' to learn more about interactive tables.';\n",
              "          element.innerHTML = '';\n",
              "          dataTable['output_type'] = 'display_data';\n",
              "          await google.colab.output.renderOutput(dataTable, element);\n",
              "          const docLink = document.createElement('div');\n",
              "          docLink.innerHTML = docLinkHtml;\n",
              "          element.appendChild(docLink);\n",
              "        }\n",
              "      </script>\n",
              "    </div>\n",
              "  </div>\n",
              "  "
            ],
            "text/plain": [
              "       NA_Sales\n",
              "0         41.36\n",
              "1         29.08\n",
              "2         15.68\n",
              "3         15.61\n",
              "4         11.27\n",
              "...         ...\n",
              "16714      0.00\n",
              "16715      0.00\n",
              "16716      0.00\n",
              "16717      0.01\n",
              "16718      0.00\n",
              "\n",
              "[16719 rows x 1 columns]"
            ]
          },
          "execution_count": 10,
          "metadata": {},
          "output_type": "execute_result"
        }
      ],
      "source": [
        "X"
      ]
    },
    {
      "cell_type": "code",
      "execution_count": null,
      "id": "M01pPICCFHMZ",
      "metadata": {
        "colab": {
          "base_uri": "https://localhost:8080/"
        },
        "id": "M01pPICCFHMZ",
        "outputId": "a5d956fe-8f21-4b7b-b189-e7035540523e"
      },
      "outputs": [
        {
          "data": {
            "text/plain": [
              "0        82.53\n",
              "1        40.24\n",
              "2        35.52\n",
              "3        32.77\n",
              "4        31.37\n",
              "         ...  \n",
              "16714     0.01\n",
              "16715     0.01\n",
              "16716     0.01\n",
              "16717     0.01\n",
              "16718     0.01\n",
              "Name: Global_Sales, Length: 16719, dtype: float64"
            ]
          },
          "execution_count": 11,
          "metadata": {},
          "output_type": "execute_result"
        }
      ],
      "source": [
        "y"
      ]
    },
    {
      "cell_type": "code",
      "execution_count": null,
      "id": "xNI7nRqQ_ax9",
      "metadata": {
        "colab": {
          "base_uri": "https://localhost:8080/",
          "height": 64
        },
        "id": "xNI7nRqQ_ax9",
        "outputId": "5ae998b0-3fa7-4eba-eb1f-1c4fc75b9932"
      },
      "outputs": [
        {
          "data": {
            "text/html": [
              "<style>#sk-container-id-1 {color: black;background-color: white;}#sk-container-id-1 pre{padding: 0;}#sk-container-id-1 div.sk-toggleable {background-color: white;}#sk-container-id-1 label.sk-toggleable__label {cursor: pointer;display: block;width: 100%;margin-bottom: 0;padding: 0.3em;box-sizing: border-box;text-align: center;}#sk-container-id-1 label.sk-toggleable__label-arrow:before {content: \"▸\";float: left;margin-right: 0.25em;color: #696969;}#sk-container-id-1 label.sk-toggleable__label-arrow:hover:before {color: black;}#sk-container-id-1 div.sk-estimator:hover label.sk-toggleable__label-arrow:before {color: black;}#sk-container-id-1 div.sk-toggleable__content {max-height: 0;max-width: 0;overflow: hidden;text-align: left;background-color: #f0f8ff;}#sk-container-id-1 div.sk-toggleable__content pre {margin: 0.2em;color: black;border-radius: 0.25em;background-color: #f0f8ff;}#sk-container-id-1 input.sk-toggleable__control:checked~div.sk-toggleable__content {max-height: 200px;max-width: 100%;overflow: auto;}#sk-container-id-1 input.sk-toggleable__control:checked~label.sk-toggleable__label-arrow:before {content: \"▾\";}#sk-container-id-1 div.sk-estimator input.sk-toggleable__control:checked~label.sk-toggleable__label {background-color: #d4ebff;}#sk-container-id-1 div.sk-label input.sk-toggleable__control:checked~label.sk-toggleable__label {background-color: #d4ebff;}#sk-container-id-1 input.sk-hidden--visually {border: 0;clip: rect(1px 1px 1px 1px);clip: rect(1px, 1px, 1px, 1px);height: 1px;margin: -1px;overflow: hidden;padding: 0;position: absolute;width: 1px;}#sk-container-id-1 div.sk-estimator {font-family: monospace;background-color: #f0f8ff;border: 1px dotted black;border-radius: 0.25em;box-sizing: border-box;margin-bottom: 0.5em;}#sk-container-id-1 div.sk-estimator:hover {background-color: #d4ebff;}#sk-container-id-1 div.sk-parallel-item::after {content: \"\";width: 100%;border-bottom: 1px solid gray;flex-grow: 1;}#sk-container-id-1 div.sk-label:hover label.sk-toggleable__label {background-color: #d4ebff;}#sk-container-id-1 div.sk-serial::before {content: \"\";position: absolute;border-left: 1px solid gray;box-sizing: border-box;top: 0;bottom: 0;left: 50%;z-index: 0;}#sk-container-id-1 div.sk-serial {display: flex;flex-direction: column;align-items: center;background-color: white;padding-right: 0.2em;padding-left: 0.2em;position: relative;}#sk-container-id-1 div.sk-item {position: relative;z-index: 1;}#sk-container-id-1 div.sk-parallel {display: flex;align-items: stretch;justify-content: center;background-color: white;position: relative;}#sk-container-id-1 div.sk-item::before, #sk-container-id-1 div.sk-parallel-item::before {content: \"\";position: absolute;border-left: 1px solid gray;box-sizing: border-box;top: 0;bottom: 0;left: 50%;z-index: -1;}#sk-container-id-1 div.sk-parallel-item {display: flex;flex-direction: column;z-index: 1;position: relative;background-color: white;}#sk-container-id-1 div.sk-parallel-item:first-child::after {align-self: flex-end;width: 50%;}#sk-container-id-1 div.sk-parallel-item:last-child::after {align-self: flex-start;width: 50%;}#sk-container-id-1 div.sk-parallel-item:only-child::after {width: 0;}#sk-container-id-1 div.sk-dashed-wrapped {border: 1px dashed gray;margin: 0 0.4em 0.5em 0.4em;box-sizing: border-box;padding-bottom: 0.4em;background-color: white;}#sk-container-id-1 div.sk-label label {font-family: monospace;font-weight: bold;display: inline-block;line-height: 1.2em;}#sk-container-id-1 div.sk-label-container {text-align: center;}#sk-container-id-1 div.sk-container {/* jupyter's `normalize.less` sets `[hidden] { display: none; }` but bootstrap.min.css set `[hidden] { display: none !important; }` so we also need the `!important` here to be able to override the default hidden behavior on the sphinx rendered scikit-learn.org. See: https://github.com/scikit-learn/scikit-learn/issues/21755 */display: inline-block !important;position: relative;}#sk-container-id-1 div.sk-text-repr-fallback {display: none;}</style><div id=\"sk-container-id-1\" class=\"sk-top-container\"><div class=\"sk-text-repr-fallback\"><pre>LinearRegression()</pre><b>In a Jupyter environment, please rerun this cell to show the HTML representation or trust the notebook. <br />On GitHub, the HTML representation is unable to render, please try loading this page with nbviewer.org.</b></div><div class=\"sk-container\" hidden><div class=\"sk-item\"><div class=\"sk-estimator sk-toggleable\"><input class=\"sk-toggleable__control sk-hidden--visually\" id=\"sk-estimator-id-1\" type=\"checkbox\" checked><label for=\"sk-estimator-id-1\" class=\"sk-toggleable__label sk-toggleable__label-arrow\">LinearRegression</label><div class=\"sk-toggleable__content\"><pre>LinearRegression()</pre></div></div></div></div></div>"
            ],
            "text/plain": [
              "LinearRegression()"
            ]
          },
          "execution_count": 17,
          "metadata": {},
          "output_type": "execute_result"
        }
      ],
      "source": [
        "from sklearn.linear_model import LinearRegression\n",
        "my_reg = LinearRegression()\n",
        "my_reg.fit(X, y)"
      ]
    },
    {
      "cell_type": "code",
      "execution_count": null,
      "id": "44z0hkZe_a1C",
      "metadata": {
        "colab": {
          "base_uri": "https://localhost:8080/"
        },
        "id": "44z0hkZe_a1C",
        "outputId": "e064787e-4a5c-4efd-d783-809110593ee8"
      },
      "outputs": [
        {
          "data": {
            "text/plain": [
              "0.06204106257017372"
            ]
          },
          "execution_count": 31,
          "metadata": {},
          "output_type": "execute_result"
        }
      ],
      "source": [
        "my_reg.intercept_ # 0.06 - 31"
      ]
    },
    {
      "cell_type": "code",
      "execution_count": null,
      "id": "8SvgZYi1Ainz",
      "metadata": {
        "colab": {
          "base_uri": "https://localhost:8080/"
        },
        "id": "8SvgZYi1Ainz",
        "outputId": "dcc5d11c-85cc-4717-e567-6bffb927755a"
      },
      "outputs": [
        {
          "name": "stdout",
          "output_type": "stream",
          "text": [
            "0.27\n"
          ]
        }
      ],
      "source": [
        "y_pred = my_reg.predict(X)\n",
        "\n",
        "from sklearn.metrics import mean_squared_error\n",
        "MSE = mean_squared_error(y_pred, y)\n",
        "\n",
        "print(round(MSE, 2)) # 32"
      ]
    },
    {
      "cell_type": "code",
      "execution_count": null,
      "id": "I24cduqWkBlP",
      "metadata": {
        "id": "I24cduqWkBlP"
      },
      "outputs": [],
      "source": []
    }
  ],
  "metadata": {
    "colab": {
      "provenance": []
    },
    "kernelspec": {
      "display_name": "Python 3 (ipykernel)",
      "language": "python",
      "name": "python3"
    },
    "language_info": {
      "codemirror_mode": {
        "name": "ipython",
        "version": 3
      },
      "file_extension": ".py",
      "mimetype": "text/x-python",
      "name": "python",
      "nbconvert_exporter": "python",
      "pygments_lexer": "ipython3",
      "version": "3.9.7"
    }
  },
  "nbformat": 4,
  "nbformat_minor": 5
}
