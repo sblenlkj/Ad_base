{
 "cells": [
  {
   "cell_type": "markdown",
   "metadata": {},
   "source": [
    "[Список](https://drive.google.com/file/d/1UHzbsq0BcH20hzqkggdYm3qPPuXTDb2r/view)  \n",
    "[Методические материалы](https://edu.hse.ru/tokenpluginfile.php/a7154ed45bf41e3deca6f8e33d50a571/2304532/course/section/876414/DA_method_materials.pdf)\n"
   ]
  },
  {
   "cell_type": "markdown",
   "metadata": {},
   "source": [
    "## 1 (10)\n",
    "\n",
    "Специалист по машинному обучению Светлана тестирует гипотезу... она использует t-тест... p-value равно 0.241. Выберите все верные утверждения.\n",
    "- Основная гипотеза **не** отвергается на уровне значимости 5 %.  \n",
    "\n",
    "Смотрим, на pvalue и уровень значимости. Если p-value, **меньше** уровня значимости - **отвергаем**!\n",
    "\n",
    "*Z-статистика = 0. Это значит тест самый типичный (все хорошо если он от -1.96 до 1.96) -> в данном случае p_value = 1"
   ]
  },
  {
   "cell_type": "markdown",
   "metadata": {},
   "source": [
    "## 2 (11)\n",
    "ошибка **первого** рода: мы формулируем правильно нулевую гипотезу, но принимаем альтернативную неверную  \n",
    "ошибка **второго** рода: мы формулируем неправильную нулевую гипотезу и ее принимаем"
   ]
  },
  {
   "cell_type": "markdown",
   "metadata": {},
   "source": [
    "## 3 (16)"
   ]
  },
  {
   "cell_type": "code",
   "execution_count": null,
   "metadata": {},
   "outputs": [],
   "source": [
    "import math\n",
    "from scipy.stats import norm\n",
    "\n",
    "# где, в течение 150 дней... среднее к-во пчел 25000... выборочная дисперсия 1300... 1.96 - 95 % доверительный интервал\n",
    "# 1.96 = norm.ppf(0.975) \n",
    "\n",
    "answer_down = 25000 - norm.ppf(0.975) * math.sqrt(1300)/math.sqrt(150)\n",
    "answer_up = 25000 + norm.ppf(0.975) * math.sqrt(1300)/math.sqrt(150)\n",
    "print('answer_down -', round(answer_down, 2))\n",
    "print('answer_up -', round(answer_up, 2))"
   ]
  },
  {
   "cell_type": "markdown",
   "metadata": {},
   "source": [
    "## 4 (17)\n",
    "[Методические материалы](https://edu.hse.ru/tokenpluginfile.php/a7154ed45bf41e3deca6f8e33d50a571/2304532/course/section/876414/DA_method_materials.pdf)\n"
   ]
  },
  {
   "cell_type": "code",
   "execution_count": 9,
   "metadata": {},
   "outputs": [
    {
     "data": {
      "text/plain": [
       "0.8434753569984761"
      ]
     },
     "execution_count": 9,
     "metadata": {},
     "output_type": "execute_result"
    }
   ],
   "source": [
    "from scipy.stats import ttest_ind\n",
    "\n",
    "a = [103.01, 101.99, 105.21, 106.80, 112.70, 106.13, 110.48, 109.26, 100.44, 100.28]\n",
    "b = [107.38, 106.31, 106.00, 105.27, 105.27, 104.66, 103.70, 105.07, 105.12, 104.74]\n",
    "\n",
    "ttest_ind(a, b).pvalue # ttest_independence\n",
    "\n",
    "# если pvalue очень большое (больше уровня значимости) - основная гипотеза не отвергается\n",
    "# маленькое pvalue - основная гипотеза должна быть отвергнута = ошибка при отвегании маленькая, меньше доверительного интер\n",
    "\n",
    "# НЕ ОТВЕРГАЕТСЯ"
   ]
  },
  {
   "cell_type": "markdown",
   "metadata": {},
   "source": [
    "## 5 (19)\n",
    "[Методические материалы](https://edu.hse.ru/tokenpluginfile.php/a7154ed45bf41e3deca6f8e33d50a571/2304532/course/section/876414/DA_method_materials.pdf)\n"
   ]
  },
  {
   "cell_type": "code",
   "execution_count": 10,
   "metadata": {},
   "outputs": [
    {
     "data": {
      "text/plain": [
       "14.48"
      ]
     },
     "execution_count": 10,
     "metadata": {},
     "output_type": "execute_result"
    }
   ],
   "source": [
    "# Рассчитайте статистику χ2 критерия согласия Пирсона\n",
    "import numpy as np\n",
    "from scipy.stats import chi2_contingency\n",
    "\n",
    "a = [20, 30]\n",
    "b = [60, 20]\n",
    "data = np.array([a, b])\n",
    "\n",
    "round(chi2_contingency(data)[0], 2)"
   ]
  }
 ],
 "metadata": {
  "kernelspec": {
   "display_name": "myenv",
   "language": "python",
   "name": "python3"
  },
  "language_info": {
   "codemirror_mode": {
    "name": "ipython",
    "version": 3
   },
   "file_extension": ".py",
   "mimetype": "text/x-python",
   "name": "python",
   "nbconvert_exporter": "python",
   "pygments_lexer": "ipython3",
   "version": "3.11.1"
  }
 },
 "nbformat": 4,
 "nbformat_minor": 2
}
