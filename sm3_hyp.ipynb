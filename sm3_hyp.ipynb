{
 "cells": [
  {
   "cell_type": "markdown",
   "metadata": {},
   "source": [
    "[Список](https://drive.google.com/file/d/1UHzbsq0BcH20hzqkggdYm3qPPuXTDb2r/view)  \n",
    "[Методические материалы](https://edu.hse.ru/tokenpluginfile.php/a7154ed45bf41e3deca6f8e33d50a571/2304532/course/section/876414/DA_method_materials.pdf)\n"
   ]
  },
  {
   "cell_type": "markdown",
   "metadata": {},
   "source": [
    "## 1 (10)\n",
    "[09-03 p значение youtube](https://www.youtube.com/watch?v=vXHulmmXNCo&list=PLCf-cQCe1FRxTgNPwcRSkBjvtE8DEm7rU&index=3)\n",
    "\n",
    "\n",
    "Специалист по машинному обучению Светлана тестирует гипотезу... она использует t-тест... p-value равно 0.241. Выберите все верные утверждения.\n",
    "- Основная гипотеза **не** отвергается на уровне значимости 5 %.  \n",
    "\n",
    "Смотрим, на pvalue и уровень значимости. Если p-value, **меньше** уровня значимости - **отвергаем**!\n",
    "\n",
    "*Z-статистика = 0. Это значит тест самый типичный (все хорошо если он от -1.96 до 1.96) -> в данном случае p_value = 1\n",
    "\n",
    "DEMO: p-value для этого теста равно 0.06 = 6 % --> Основная гипотеза не отвергается на уровне значимости 1% (1 > 6), Основная гипотеза не отвергается на уровне значимости 3% (3 > 6)\n",
    "\n",
    "-------\n",
    "\n",
    "Рассмотрим модель линейной регрессии, которую оценили на выборке из 121 наблюдений. Оказалось, что оценка коэффициента w1 равна 3.2, а оценка его стандартного отклонения равна 2.9. При помощи t-теста проверьте следующую гипотезу: 𝐻0:𝑤1=0."
   ]
  },
  {
   "cell_type": "code",
   "execution_count": 7,
   "metadata": {},
   "outputs": [
    {
     "data": {
      "text/plain": [
       "-12.137931034482758"
      ]
     },
     "execution_count": 7,
     "metadata": {},
     "output_type": "execute_result"
    }
   ],
   "source": [
    "t_score = (0 - 3.2) / 2.9 * 121 ** 0.5 \n",
    "t_score"
   ]
  },
  {
   "cell_type": "code",
   "execution_count": 8,
   "metadata": {},
   "outputs": [
    {
     "data": {
      "text/plain": [
       "1.3063037893373882e-22"
      ]
     },
     "execution_count": 8,
     "metadata": {},
     "output_type": "execute_result"
    }
   ],
   "source": [
    "from scipy.stats import t\n",
    "\n",
    "t(121 - 1).cdf(t_score) * 2"
   ]
  },
  {
   "cell_type": "code",
   "execution_count": 3,
   "metadata": {},
   "outputs": [
    {
     "data": {
      "text/plain": [
       "3.2672326447082883e-10"
      ]
     },
     "execution_count": 3,
     "metadata": {},
     "output_type": "execute_result"
    }
   ],
   "source": [
    "w = 13.2\n",
    "std = 4\n",
    "n = 17\n",
    "df = 17 - 1\n",
    "\n",
    "t_score = (0 - w) / std * n ** 0.5 \n",
    "t(df).cdf(t_score) * 2"
   ]
  },
  {
   "cell_type": "markdown",
   "metadata": {},
   "source": [
    "## 2 (11)\n",
    "[09-04 Ошибки 1 и 2 рода youtube pregnant man](https://www.youtube.com/watch?v=VxVUPnDvWb8&list=PLCf-cQCe1FRxTgNPwcRSkBjvtE8DEm7rU&index=4)   \n",
    "\n",
    "\n",
    "ошибка **первого** рода: мы формулируем правильно нулевую гипотезу, но принимаем альтернативную неверную  \n",
    "ошибка **второго** рода: мы формулируем неправильную нулевую гипотезу и ее принимаем\n"
   ]
  },
  {
   "cell_type": "markdown",
   "metadata": {},
   "source": [
    "## 3 (16)"
   ]
  },
  {
   "cell_type": "code",
   "execution_count": 1,
   "metadata": {},
   "outputs": [
    {
     "name": "stdout",
     "output_type": "stream",
     "text": [
      "answer_down - 24994.23\n",
      "answer_up - 25005.77\n"
     ]
    }
   ],
   "source": [
    "import math\n",
    "from scipy.stats import norm\n",
    "\n",
    "# где, в течение 150 дней... среднее к-во пчел 25000... выборочная дисперсия 1300... 1.96 - 95 % доверительный интервал\n",
    "# 1.96 = norm.ppf(0.975) \n",
    "\n",
    "answer_down = 25000 - norm.ppf(0.975) * math.sqrt(1300)/math.sqrt(150)\n",
    "answer_up = 25000 + norm.ppf(0.975) * math.sqrt(1300)/math.sqrt(150)\n",
    "print('answer_down -', round(answer_down, 2))\n",
    "print('answer_up -', round(answer_up, 2))"
   ]
  },
  {
   "cell_type": "code",
   "execution_count": 2,
   "metadata": {},
   "outputs": [
    {
     "data": {
      "text/plain": [
       "57.34"
      ]
     },
     "execution_count": 2,
     "metadata": {},
     "output_type": "execute_result"
    }
   ],
   "source": [
    "# DEMO\n",
    "round(57 + norm.ppf(0.975) * math.sqrt(3.61)/math.sqrt(120), 2)"
   ]
  },
  {
   "cell_type": "markdown",
   "metadata": {},
   "source": [
    "## 4 (17)\n",
    "[Методические материалы](https://edu.hse.ru/tokenpluginfile.php/a7154ed45bf41e3deca6f8e33d50a571/2304532/course/section/876414/DA_method_materials.pdf)\n"
   ]
  },
  {
   "cell_type": "code",
   "execution_count": 9,
   "metadata": {},
   "outputs": [
    {
     "data": {
      "text/plain": [
       "0.5794774673417524"
      ]
     },
     "execution_count": 9,
     "metadata": {},
     "output_type": "execute_result"
    }
   ],
   "source": [
    "from scipy.stats import ttest_ind\n",
    "\n",
    "a = [105.99, 101.02, 102.83, 103.73, 103.25, 107.59, 105.80, 108.34, 103.98, 102.31]\n",
    "b = [105.47, 105.28, 105.53, 104.04, 104.85, 104.21, 106.02, 104.54, 103.93, 105.38]\n",
    "\n",
    "ttest_ind(a, b).pvalue # ttest_independence\n",
    "\n",
    "# если pvalue очень большое (больше уровня значимости) - основная гипотеза не отвергается\n",
    "# маленькое pvalue - основная гипотеза должна быть отвергнута = ошибка при отвегании маленькая, меньше доверительного интер\n",
    "\n",
    "# НЕ ОТВЕРГАЕТСЯ"
   ]
  },
  {
   "cell_type": "markdown",
   "metadata": {},
   "source": [
    "## 5 (19)\n",
    "[Методические материалы](https://edu.hse.ru/tokenpluginfile.php/a7154ed45bf41e3deca6f8e33d50a571/2304532/course/section/876414/DA_method_materials.pdf)\n"
   ]
  },
  {
   "cell_type": "code",
   "execution_count": 10,
   "metadata": {},
   "outputs": [
    {
     "data": {
      "text/plain": [
       "18.17"
      ]
     },
     "execution_count": 10,
     "metadata": {},
     "output_type": "execute_result"
    }
   ],
   "source": [
    "# Рассчитайте статистику χ2 критерия согласия Пирсона\n",
    "import numpy as np\n",
    "from scipy.stats import chi2_contingency\n",
    "\n",
    "a = [25, 40, 35]\n",
    "b = [15, 20, 65]\n",
    "data = np.array([a, b])\n",
    "\n",
    "round(chi2_contingency(data, correction=False)[0], 2)"
   ]
  },
  {
   "cell_type": "code",
   "execution_count": null,
   "metadata": {},
   "outputs": [],
   "source": []
  }
 ],
 "metadata": {
  "kernelspec": {
   "display_name": "myenv",
   "language": "python",
   "name": "python3"
  },
  "language_info": {
   "codemirror_mode": {
    "name": "ipython",
    "version": 3
   },
   "file_extension": ".py",
   "mimetype": "text/x-python",
   "name": "python",
   "nbconvert_exporter": "python",
   "pygments_lexer": "ipython3",
   "version": "3.11.1"
  }
 },
 "nbformat": 4,
 "nbformat_minor": 2
}
