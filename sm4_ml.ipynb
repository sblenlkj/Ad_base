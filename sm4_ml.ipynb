{
 "cells": [
  {
   "cell_type": "markdown",
   "metadata": {},
   "source": [
    "## 1 (3)\n",
    "Аналитик Арсений специализируется в применениях методов машинного обучения... классификация. Оказалось, что уровнение выглядит так..."
   ]
  },
  {
   "cell_type": "code",
   "execution_count": 3,
   "metadata": {},
   "outputs": [
    {
     "name": "stdout",
     "output_type": "stream",
     "text": [
      "0.66\n"
     ]
    }
   ],
   "source": [
    "# посчитать все по формуле:\n",
    "a = 0 - 0.01 * 15 + 0.2 * 4 # дана в условии\n",
    "\n",
    "# применяем вот это:\n",
    "import math\n",
    "print(round(1/(1+math.exp(-a)), 2)) # печатаем ответ - сигмойда"
   ]
  },
  {
   "cell_type": "markdown",
   "metadata": {},
   "source": [
    "## 2 (7)\n",
    "Кружочки, квадратики, звездочки..."
   ]
  },
  {
   "cell_type": "markdown",
   "metadata": {},
   "source": [
    "## 3 (12)\n",
    "Большая и страшная формула. С ее помощью определите верное утверждение - на сколько что возрастает:\n",
    "- при увеличении температуры воздуха на 1 градус Цельсия количество осадков уменьшается на 5%.\n",
    "- при увеличении температуры воздуха на 1% количество осадков увеличивается примерно на 0.001 мм.\n",
    "\n",
    "Единственная логика:\n",
    "- Если у нас логарифм: не будут одинаковые единицы измерения: год и год, % и % и т д. Если его нет, все возможно: при увеличении температуры воздуха на 2 градуса Цельсия количество осадков увеличится на 4 мм.\n",
    "- под логорифмом обычно часто проценты, другая переменная - абсолютное значение\n",
    "- Смотри на показатели в формуле! Когда их больше 2-х могут подловить a = b + c -> зависимость b и c"
   ]
  },
  {
   "cell_type": "code",
   "execution_count": 4,
   "metadata": {},
   "outputs": [
    {
     "data": {
      "text/plain": [
       "0.12437913566459713"
      ]
     },
     "execution_count": 4,
     "metadata": {},
     "output_type": "execute_result"
    }
   ],
   "source": [
    "import math\n",
    "\n",
    "x = (math.log(100) - 1.79) / 0.08\n",
    "y = (math.log(101) - 1.79) / 0.08\n",
    "y - x"
   ]
  },
  {
   "cell_type": "markdown",
   "metadata": {},
   "source": [
    "## 4 (14) +\n",
    "Верное утверждение о метриках качества:  \n",
    "**MSE** - берем все ошибки, находим отклонения, потом возводим в квадрат. Она равна нулю, когда все отлично. Она может быть любой от 0 до + бесконечности  \n",
    "**MAE** - среднюю абсолютную ошибку - модуль (растояние от 0 до этой точки)  \n",
    "**R2** - процент обьясненной дисперсии: данные очень отличаются и мы хотим обьяснить, почему они разные. Если я могу обьяснить это для всех R2 - 100 % -  т е это тот процент данных, которые я могу обьяснить исходя с помощью признаков  \n",
    "\n",
    "+ MSE (средняя квадратичная ошибка), MAE (средняя абсолютная ошибка) и R2 :\n",
    "    - MSE и MAE на тестовой выборке для этой модели совпадают / не могут совпадать / MSE всегда будет меньше MAE - **НЕ ФАКТ**\n",
    "    - Для оценки качества этой модели на тестовой выборке можно использовать как MSE, так и MAE. - **Верно**\n",
    "    - Для сравнения таких моделей можно использовать лишь MSE - **НЕТ** - можно использовать все три: для сравнения таких моделей можно использовать MAE (среднюю абсолютную ошибку) - **Верно**\n",
    "    - R2 в такой модели всегда больше 0.8. - **НЕ ФАКТ**\n",
    "    - R2  **является** адекватным показателем качества для этой модели - **Верно**\n",
    "    - Максимизация R2 в этой модели эквивалентна минимизации MSE (Максимизация R2 связана с минимизацией MSE) - **Верно**\n",
    "\n",
    "+ При добавлении нового признака в такую модель MSE на тестовой выборке обязательно уменьшится - **НЕ ФАКТ** - может увеличиться, может остаться неизменным.\n",
    "+ Оценки коэффициентов в такой модели невозможно корректно интерпретировать - **все можно, неверно**."
   ]
  },
  {
   "cell_type": "markdown",
   "metadata": {},
   "source": [
    "## 5 (15) +\n",
    "Рок кривая.\n",
    "\n",
    "Наихудший классификатор - уголок под прямой.\n",
    "Наилучший классификатор - уголок над прямой.  \n",
    "\n",
    "В среднем логистическая регрессия предсказывает лучше, чем случайный классификатор: если она выше прямой.\n",
    "\n",
    "В соответствии с ROC-кривой, если FPR равна 0.2, то TPR также равна 0.2: смотрим оси x и y.\n",
    "\n",
    "AUC ROC - площадь (Area Under Curve) - это НЕ КРАСНАЯ линия, а синия - площадь под ней. Под красной линией - 0.5 - случайный"
   ]
  },
  {
   "cell_type": "markdown",
   "metadata": {},
   "source": [
    "## 6 (31)\n",
    "Lin reg\n"
   ]
  },
  {
   "cell_type": "code",
   "execution_count": null,
   "metadata": {},
   "outputs": [],
   "source": [
    "import pandas as pd\n",
    "\n",
    "df = pd.read_csv('data.csv')\n",
    "df.head()"
   ]
  },
  {
   "cell_type": "code",
   "execution_count": null,
   "metadata": {},
   "outputs": [],
   "source": [
    "# 1 - создаем столбики с нужными признаками M2×M3 и ln(300+M2)\n",
    "\n",
    "df['first'] = df['M2'] * df['M3'] # df_new = pd.DataFrame()\n",
    "\n",
    "import numpy as np\n",
    "df['second'] = np.log(df['M2'] + 300)"
   ]
  },
  {
   "cell_type": "code",
   "execution_count": null,
   "metadata": {},
   "outputs": [],
   "source": [
    "df.head()"
   ]
  },
  {
   "cell_type": "code",
   "execution_count": null,
   "metadata": {},
   "outputs": [],
   "source": [
    "X = df[['first', 'second']]\n",
    "y = df['M1']"
   ]
  },
  {
   "cell_type": "markdown",
   "metadata": {},
   "source": [
    "[Список](https://drive.google.com/file/d/1UHzbsq0BcH20hzqkggdYm3qPPuXTDb2r/view)"
   ]
  },
  {
   "cell_type": "code",
   "execution_count": 2,
   "metadata": {},
   "outputs": [],
   "source": [
    "from sklearn.linear_model import LinearRegression\n",
    "lin_reg = LinearRegression() # __init__() :)\n",
    "lin_reg.fit(X, y)"
   ]
  },
  {
   "cell_type": "code",
   "execution_count": null,
   "metadata": {},
   "outputs": [],
   "source": [
    "# получаем коэффициенты\n",
    "lin_reg.coef_ # -111.68"
   ]
  },
  {
   "cell_type": "code",
   "execution_count": null,
   "metadata": {},
   "outputs": [],
   "source": [
    "# удоставериться можно так\n",
    "lin_reg.feature_names_in_"
   ]
  },
  {
   "cell_type": "code",
   "execution_count": null,
   "metadata": {},
   "outputs": [],
   "source": [
    "# свободный член - Independent term in the linear model\n",
    "lin_reg.intercept_"
   ]
  },
  {
   "cell_type": "markdown",
   "metadata": {},
   "source": [
    "## 7 (32)\n",
    "[Методические материалы](https://edu.hse.ru/tokenpluginfile.php/a7154ed45bf41e3deca6f8e33d50a571/2304532/course/section/876414/DA_method_materials.pdf)\n"
   ]
  },
  {
   "cell_type": "code",
   "execution_count": null,
   "metadata": {},
   "outputs": [],
   "source": [
    "y_pred = lin_reg.predict(X)"
   ]
  },
  {
   "cell_type": "code",
   "execution_count": null,
   "metadata": {},
   "outputs": [],
   "source": [
    "# значение среднеквадратичной ошибки (MSE)\n",
    "from sklearn.metrics import mean_squared_error\n",
    "MSE = mean_squared_error(y_pred, y)\n",
    "\n",
    "print(round(MSE, 2))"
   ]
  },
  {
   "cell_type": "code",
   "execution_count": null,
   "metadata": {},
   "outputs": [],
   "source": [
    "# значение средней абсолютной ошибки (MAE)\n",
    "from sklearn.metrics import mean_absolute_error\n",
    "MAE = mean_absolute_error(y_pred, y)\n",
    "\n",
    "print(round(MAE, 2))"
   ]
  },
  {
   "cell_type": "code",
   "execution_count": null,
   "metadata": {},
   "outputs": [],
   "source": [
    "# R2 - доля обьясненной дисперсии - coefficient of determination\n",
    "print(round(lin_reg.score(X, y)))"
   ]
  }
 ],
 "metadata": {
  "kernelspec": {
   "display_name": "myenv",
   "language": "python",
   "name": "python3"
  },
  "language_info": {
   "codemirror_mode": {
    "name": "ipython",
    "version": 3
   },
   "file_extension": ".py",
   "mimetype": "text/x-python",
   "name": "python",
   "nbconvert_exporter": "python",
   "pygments_lexer": "ipython3",
   "version": "3.11.1"
  }
 },
 "nbformat": 4,
 "nbformat_minor": 2
}
